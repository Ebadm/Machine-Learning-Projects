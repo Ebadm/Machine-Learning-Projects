{
 "cells": [
  {
   "cell_type": "markdown",
   "metadata": {},
   "source": [
    "# Question 4:"
   ]
  },
  {
   "cell_type": "markdown",
   "metadata": {},
   "source": [
    "### Part A: Exploratory data analysis and identifying the parameters."
   ]
  },
  {
   "cell_type": "markdown",
   "metadata": {},
   "source": [
    "#### Step 1: Load the Dataset and import libraries"
   ]
  },
  {
   "cell_type": "code",
   "execution_count": 477,
   "metadata": {},
   "outputs": [
    {
     "data": {
      "text/plain": [
       "(614, 10)"
      ]
     },
     "execution_count": 477,
     "metadata": {},
     "output_type": "execute_result"
    }
   ],
   "source": [
    "import numpy as np\n",
    "import pandas as pd\n",
    "import matplotlib.pyplot as plt\n",
    "import seaborn as sns\n",
    "\n",
    "raw_df = pd.read_csv(\"train.csv\")\n",
    "raw_df.shape"
   ]
  },
  {
   "cell_type": "markdown",
   "metadata": {},
   "source": [
    "#### Step 2: Check for missing column headers:"
   ]
  },
  {
   "cell_type": "code",
   "execution_count": 478,
   "metadata": {},
   "outputs": [
    {
     "data": {
      "text/plain": [
       "Index(['p_id', 'no_times_pregnant', 'glucose_concentration', 'blood_pressure',\n",
       "       'skin_fold_thickness', 'serum_insulin', 'bmi', 'diabetes pedigree',\n",
       "       'age', 'diabetes'],\n",
       "      dtype='object')"
      ]
     },
     "execution_count": 478,
     "metadata": {},
     "output_type": "execute_result"
    }
   ],
   "source": [
    "raw_df.columns"
   ]
  },
  {
   "cell_type": "code",
   "execution_count": 479,
   "metadata": {},
   "outputs": [
    {
     "data": {
      "text/html": [
       "<div>\n",
       "<style scoped>\n",
       "    .dataframe tbody tr th:only-of-type {\n",
       "        vertical-align: middle;\n",
       "    }\n",
       "\n",
       "    .dataframe tbody tr th {\n",
       "        vertical-align: top;\n",
       "    }\n",
       "\n",
       "    .dataframe thead th {\n",
       "        text-align: right;\n",
       "    }\n",
       "</style>\n",
       "<table border=\"1\" class=\"dataframe\">\n",
       "  <thead>\n",
       "    <tr style=\"text-align: right;\">\n",
       "      <th></th>\n",
       "      <th>p_id</th>\n",
       "      <th>no_times_pregnant</th>\n",
       "      <th>glucose_concentration</th>\n",
       "      <th>blood_pressure</th>\n",
       "      <th>skin_fold_thickness</th>\n",
       "      <th>serum_insulin</th>\n",
       "      <th>bmi</th>\n",
       "      <th>diabetes pedigree</th>\n",
       "      <th>age</th>\n",
       "      <th>diabetes</th>\n",
       "    </tr>\n",
       "  </thead>\n",
       "  <tbody>\n",
       "    <tr>\n",
       "      <th>0</th>\n",
       "      <td>316</td>\n",
       "      <td>2</td>\n",
       "      <td>112</td>\n",
       "      <td>68</td>\n",
       "      <td>22</td>\n",
       "      <td>94</td>\n",
       "      <td>34.1</td>\n",
       "      <td>0.315</td>\n",
       "      <td>26</td>\n",
       "      <td>0</td>\n",
       "    </tr>\n",
       "    <tr>\n",
       "      <th>1</th>\n",
       "      <td>25</td>\n",
       "      <td>11</td>\n",
       "      <td>143</td>\n",
       "      <td>94</td>\n",
       "      <td>33</td>\n",
       "      <td>146</td>\n",
       "      <td>36.6</td>\n",
       "      <td>0.254</td>\n",
       "      <td>51</td>\n",
       "      <td>1</td>\n",
       "    </tr>\n",
       "    <tr>\n",
       "      <th>2</th>\n",
       "      <td>710</td>\n",
       "      <td>2</td>\n",
       "      <td>93</td>\n",
       "      <td>64</td>\n",
       "      <td>32</td>\n",
       "      <td>160</td>\n",
       "      <td>38.0</td>\n",
       "      <td>0.674</td>\n",
       "      <td>23</td>\n",
       "      <td>1</td>\n",
       "    </tr>\n",
       "    <tr>\n",
       "      <th>3</th>\n",
       "      <td>658</td>\n",
       "      <td>1</td>\n",
       "      <td>120</td>\n",
       "      <td>80</td>\n",
       "      <td>48</td>\n",
       "      <td>200</td>\n",
       "      <td>38.9</td>\n",
       "      <td>1.162</td>\n",
       "      <td>41</td>\n",
       "      <td>0</td>\n",
       "    </tr>\n",
       "    <tr>\n",
       "      <th>4</th>\n",
       "      <td>542</td>\n",
       "      <td>3</td>\n",
       "      <td>128</td>\n",
       "      <td>72</td>\n",
       "      <td>25</td>\n",
       "      <td>190</td>\n",
       "      <td>32.4</td>\n",
       "      <td>0.549</td>\n",
       "      <td>27</td>\n",
       "      <td>1</td>\n",
       "    </tr>\n",
       "  </tbody>\n",
       "</table>\n",
       "</div>"
      ],
      "text/plain": [
       "   p_id  no_times_pregnant  glucose_concentration  blood_pressure  \\\n",
       "0   316                  2                    112              68   \n",
       "1    25                 11                    143              94   \n",
       "2   710                  2                     93              64   \n",
       "3   658                  1                    120              80   \n",
       "4   542                  3                    128              72   \n",
       "\n",
       "   skin_fold_thickness  serum_insulin   bmi  diabetes pedigree  age  diabetes  \n",
       "0                   22             94  34.1              0.315   26         0  \n",
       "1                   33            146  36.6              0.254   51         1  \n",
       "2                   32            160  38.0              0.674   23         1  \n",
       "3                   48            200  38.9              1.162   41         0  \n",
       "4                   25            190  32.4              0.549   27         1  "
      ]
     },
     "execution_count": 479,
     "metadata": {},
     "output_type": "execute_result"
    }
   ],
   "source": [
    "raw_df.head()"
   ]
  },
  {
   "cell_type": "markdown",
   "metadata": {},
   "source": [
    "We notice that the dataset contains 10 attributes and column names exist for all columns."
   ]
  },
  {
   "cell_type": "markdown",
   "metadata": {},
   "source": [
    "#### Step 3: Check for missing values"
   ]
  },
  {
   "cell_type": "code",
   "execution_count": 480,
   "metadata": {},
   "outputs": [
    {
     "name": "stdout",
     "output_type": "stream",
     "text": [
      "<class 'pandas.core.frame.DataFrame'>\n",
      "RangeIndex: 614 entries, 0 to 613\n",
      "Data columns (total 10 columns):\n",
      " #   Column                 Non-Null Count  Dtype  \n",
      "---  ------                 --------------  -----  \n",
      " 0   p_id                   614 non-null    int64  \n",
      " 1   no_times_pregnant      614 non-null    int64  \n",
      " 2   glucose_concentration  614 non-null    int64  \n",
      " 3   blood_pressure         614 non-null    int64  \n",
      " 4   skin_fold_thickness    614 non-null    int64  \n",
      " 5   serum_insulin          614 non-null    int64  \n",
      " 6   bmi                    614 non-null    float64\n",
      " 7   diabetes pedigree      614 non-null    float64\n",
      " 8   age                    614 non-null    int64  \n",
      " 9   diabetes               614 non-null    int64  \n",
      "dtypes: float64(2), int64(8)\n",
      "memory usage: 48.1 KB\n"
     ]
    }
   ],
   "source": [
    "raw_df.info()"
   ]
  },
  {
   "cell_type": "markdown",
   "metadata": {},
   "source": [
    "All columns have a primary data type and have non-null values.\n",
    "We can confirm this further with:"
   ]
  },
  {
   "cell_type": "code",
   "execution_count": 481,
   "metadata": {},
   "outputs": [
    {
     "data": {
      "text/plain": [
       "p_id                     0\n",
       "no_times_pregnant        0\n",
       "glucose_concentration    0\n",
       "blood_pressure           0\n",
       "skin_fold_thickness      0\n",
       "serum_insulin            0\n",
       "bmi                      0\n",
       "diabetes pedigree        0\n",
       "age                      0\n",
       "diabetes                 0\n",
       "dtype: int64"
      ]
     },
     "execution_count": 481,
     "metadata": {},
     "output_type": "execute_result"
    }
   ],
   "source": [
    "raw_df.isnull().sum()"
   ]
  },
  {
   "cell_type": "code",
   "execution_count": 482,
   "metadata": {},
   "outputs": [
    {
     "data": {
      "text/html": [
       "<div>\n",
       "<style scoped>\n",
       "    .dataframe tbody tr th:only-of-type {\n",
       "        vertical-align: middle;\n",
       "    }\n",
       "\n",
       "    .dataframe tbody tr th {\n",
       "        vertical-align: top;\n",
       "    }\n",
       "\n",
       "    .dataframe thead th {\n",
       "        text-align: right;\n",
       "    }\n",
       "</style>\n",
       "<table border=\"1\" class=\"dataframe\">\n",
       "  <thead>\n",
       "    <tr style=\"text-align: right;\">\n",
       "      <th></th>\n",
       "      <th>count</th>\n",
       "      <th>mean</th>\n",
       "      <th>std</th>\n",
       "      <th>min</th>\n",
       "      <th>25%</th>\n",
       "      <th>50%</th>\n",
       "      <th>75%</th>\n",
       "      <th>max</th>\n",
       "    </tr>\n",
       "  </thead>\n",
       "  <tbody>\n",
       "    <tr>\n",
       "      <th>p_id</th>\n",
       "      <td>614.0</td>\n",
       "      <td>385.773616</td>\n",
       "      <td>223.603024</td>\n",
       "      <td>1.000</td>\n",
       "      <td>191.25000</td>\n",
       "      <td>387.000</td>\n",
       "      <td>572.7500</td>\n",
       "      <td>768.00</td>\n",
       "    </tr>\n",
       "    <tr>\n",
       "      <th>no_times_pregnant</th>\n",
       "      <td>614.0</td>\n",
       "      <td>3.853420</td>\n",
       "      <td>3.358126</td>\n",
       "      <td>0.000</td>\n",
       "      <td>1.00000</td>\n",
       "      <td>3.000</td>\n",
       "      <td>6.0000</td>\n",
       "      <td>17.00</td>\n",
       "    </tr>\n",
       "    <tr>\n",
       "      <th>glucose_concentration</th>\n",
       "      <td>614.0</td>\n",
       "      <td>120.542345</td>\n",
       "      <td>31.252286</td>\n",
       "      <td>0.000</td>\n",
       "      <td>99.00000</td>\n",
       "      <td>117.000</td>\n",
       "      <td>139.0000</td>\n",
       "      <td>197.00</td>\n",
       "    </tr>\n",
       "    <tr>\n",
       "      <th>blood_pressure</th>\n",
       "      <td>614.0</td>\n",
       "      <td>68.765472</td>\n",
       "      <td>19.914836</td>\n",
       "      <td>0.000</td>\n",
       "      <td>62.00000</td>\n",
       "      <td>72.000</td>\n",
       "      <td>80.0000</td>\n",
       "      <td>114.00</td>\n",
       "    </tr>\n",
       "    <tr>\n",
       "      <th>skin_fold_thickness</th>\n",
       "      <td>614.0</td>\n",
       "      <td>20.244300</td>\n",
       "      <td>15.886083</td>\n",
       "      <td>0.000</td>\n",
       "      <td>0.00000</td>\n",
       "      <td>23.000</td>\n",
       "      <td>32.0000</td>\n",
       "      <td>63.00</td>\n",
       "    </tr>\n",
       "    <tr>\n",
       "      <th>serum_insulin</th>\n",
       "      <td>614.0</td>\n",
       "      <td>79.355049</td>\n",
       "      <td>117.709950</td>\n",
       "      <td>0.000</td>\n",
       "      <td>0.00000</td>\n",
       "      <td>17.000</td>\n",
       "      <td>126.0000</td>\n",
       "      <td>846.00</td>\n",
       "    </tr>\n",
       "    <tr>\n",
       "      <th>bmi</th>\n",
       "      <td>614.0</td>\n",
       "      <td>31.909935</td>\n",
       "      <td>8.007699</td>\n",
       "      <td>0.000</td>\n",
       "      <td>27.30000</td>\n",
       "      <td>32.000</td>\n",
       "      <td>36.6000</td>\n",
       "      <td>59.40</td>\n",
       "    </tr>\n",
       "    <tr>\n",
       "      <th>diabetes pedigree</th>\n",
       "      <td>614.0</td>\n",
       "      <td>0.466342</td>\n",
       "      <td>0.331090</td>\n",
       "      <td>0.078</td>\n",
       "      <td>0.24025</td>\n",
       "      <td>0.361</td>\n",
       "      <td>0.6135</td>\n",
       "      <td>2.42</td>\n",
       "    </tr>\n",
       "    <tr>\n",
       "      <th>age</th>\n",
       "      <td>614.0</td>\n",
       "      <td>33.325733</td>\n",
       "      <td>11.929569</td>\n",
       "      <td>21.000</td>\n",
       "      <td>24.00000</td>\n",
       "      <td>29.000</td>\n",
       "      <td>41.0000</td>\n",
       "      <td>81.00</td>\n",
       "    </tr>\n",
       "    <tr>\n",
       "      <th>diabetes</th>\n",
       "      <td>614.0</td>\n",
       "      <td>0.348534</td>\n",
       "      <td>0.476895</td>\n",
       "      <td>0.000</td>\n",
       "      <td>0.00000</td>\n",
       "      <td>0.000</td>\n",
       "      <td>1.0000</td>\n",
       "      <td>1.00</td>\n",
       "    </tr>\n",
       "  </tbody>\n",
       "</table>\n",
       "</div>"
      ],
      "text/plain": [
       "                       count        mean         std     min        25%  \\\n",
       "p_id                   614.0  385.773616  223.603024   1.000  191.25000   \n",
       "no_times_pregnant      614.0    3.853420    3.358126   0.000    1.00000   \n",
       "glucose_concentration  614.0  120.542345   31.252286   0.000   99.00000   \n",
       "blood_pressure         614.0   68.765472   19.914836   0.000   62.00000   \n",
       "skin_fold_thickness    614.0   20.244300   15.886083   0.000    0.00000   \n",
       "serum_insulin          614.0   79.355049  117.709950   0.000    0.00000   \n",
       "bmi                    614.0   31.909935    8.007699   0.000   27.30000   \n",
       "diabetes pedigree      614.0    0.466342    0.331090   0.078    0.24025   \n",
       "age                    614.0   33.325733   11.929569  21.000   24.00000   \n",
       "diabetes               614.0    0.348534    0.476895   0.000    0.00000   \n",
       "\n",
       "                           50%       75%     max  \n",
       "p_id                   387.000  572.7500  768.00  \n",
       "no_times_pregnant        3.000    6.0000   17.00  \n",
       "glucose_concentration  117.000  139.0000  197.00  \n",
       "blood_pressure          72.000   80.0000  114.00  \n",
       "skin_fold_thickness     23.000   32.0000   63.00  \n",
       "serum_insulin           17.000  126.0000  846.00  \n",
       "bmi                     32.000   36.6000   59.40  \n",
       "diabetes pedigree        0.361    0.6135    2.42  \n",
       "age                     29.000   41.0000   81.00  \n",
       "diabetes                 0.000    1.0000    1.00  "
      ]
     },
     "execution_count": 482,
     "metadata": {},
     "output_type": "execute_result"
    }
   ],
   "source": [
    "raw_df.describe().T\n"
   ]
  },
  {
   "cell_type": "markdown",
   "metadata": {},
   "source": [
    "We note some 0 values in glucose_concentration, blood_pressure, skin_fold_thickness, serum_insulin, bmi, diabetes pedigree. therefore, these are erroneous data that we need to fix."
   ]
  },
  {
   "cell_type": "code",
   "execution_count": 483,
   "metadata": {},
   "outputs": [
    {
     "data": {
      "text/plain": [
       "p_id                       0\n",
       "no_times_pregnant          0\n",
       "glucose_concentration      4\n",
       "blood_pressure            31\n",
       "skin_fold_thickness      187\n",
       "serum_insulin            304\n",
       "bmi                       10\n",
       "diabetes pedigree          0\n",
       "age                        0\n",
       "diabetes                   0\n",
       "dtype: int64"
      ]
     },
     "execution_count": 483,
     "metadata": {},
     "output_type": "execute_result"
    }
   ],
   "source": [
    "raw_df['glucose_concentration'].replace(to_replace = 0, value = np.nan, inplace=True)\n",
    "raw_df['blood_pressure'].replace(to_replace = 0, value = np.nan, inplace=True)\n",
    "raw_df['skin_fold_thickness'].replace(to_replace = 0, value = np.nan, inplace=True)\n",
    "raw_df['serum_insulin'].replace(to_replace = 0, value = np.nan, inplace=True)\n",
    "raw_df['bmi'].replace(to_replace = 0, value = np.nan, inplace=True)\n",
    "raw_df['diabetes pedigree'].replace(to_replace = 0, value = np.nan, inplace=True)\n",
    "raw_df.isnull().sum()"
   ]
  },
  {
   "cell_type": "code",
   "execution_count": 484,
   "metadata": {},
   "outputs": [
    {
     "data": {
      "text/html": [
       "<div>\n",
       "<style scoped>\n",
       "    .dataframe tbody tr th:only-of-type {\n",
       "        vertical-align: middle;\n",
       "    }\n",
       "\n",
       "    .dataframe tbody tr th {\n",
       "        vertical-align: top;\n",
       "    }\n",
       "\n",
       "    .dataframe thead th {\n",
       "        text-align: right;\n",
       "    }\n",
       "</style>\n",
       "<table border=\"1\" class=\"dataframe\">\n",
       "  <thead>\n",
       "    <tr style=\"text-align: right;\">\n",
       "      <th></th>\n",
       "      <th>count</th>\n",
       "      <th>mean</th>\n",
       "      <th>std</th>\n",
       "      <th>min</th>\n",
       "      <th>25%</th>\n",
       "      <th>50%</th>\n",
       "      <th>75%</th>\n",
       "      <th>max</th>\n",
       "    </tr>\n",
       "  </thead>\n",
       "  <tbody>\n",
       "    <tr>\n",
       "      <th>p_id</th>\n",
       "      <td>308.0</td>\n",
       "      <td>392.665584</td>\n",
       "      <td>219.391300</td>\n",
       "      <td>5.000</td>\n",
       "      <td>203.00000</td>\n",
       "      <td>393.5000</td>\n",
       "      <td>574.25000</td>\n",
       "      <td>766.00</td>\n",
       "    </tr>\n",
       "    <tr>\n",
       "      <th>no_times_pregnant</th>\n",
       "      <td>308.0</td>\n",
       "      <td>3.337662</td>\n",
       "      <td>3.221914</td>\n",
       "      <td>0.000</td>\n",
       "      <td>1.00000</td>\n",
       "      <td>2.0000</td>\n",
       "      <td>5.00000</td>\n",
       "      <td>17.00</td>\n",
       "    </tr>\n",
       "    <tr>\n",
       "      <th>glucose_concentration</th>\n",
       "      <td>308.0</td>\n",
       "      <td>122.402597</td>\n",
       "      <td>30.013139</td>\n",
       "      <td>68.000</td>\n",
       "      <td>99.75000</td>\n",
       "      <td>119.0000</td>\n",
       "      <td>143.00000</td>\n",
       "      <td>197.00</td>\n",
       "    </tr>\n",
       "    <tr>\n",
       "      <th>blood_pressure</th>\n",
       "      <td>308.0</td>\n",
       "      <td>70.370130</td>\n",
       "      <td>12.677637</td>\n",
       "      <td>24.000</td>\n",
       "      <td>62.00000</td>\n",
       "      <td>70.0000</td>\n",
       "      <td>78.00000</td>\n",
       "      <td>110.00</td>\n",
       "    </tr>\n",
       "    <tr>\n",
       "      <th>skin_fold_thickness</th>\n",
       "      <td>308.0</td>\n",
       "      <td>29.272727</td>\n",
       "      <td>10.786210</td>\n",
       "      <td>7.000</td>\n",
       "      <td>21.00000</td>\n",
       "      <td>29.0000</td>\n",
       "      <td>37.00000</td>\n",
       "      <td>63.00</td>\n",
       "    </tr>\n",
       "    <tr>\n",
       "      <th>serum_insulin</th>\n",
       "      <td>308.0</td>\n",
       "      <td>157.831169</td>\n",
       "      <td>123.455398</td>\n",
       "      <td>14.000</td>\n",
       "      <td>78.00000</td>\n",
       "      <td>126.0000</td>\n",
       "      <td>190.25000</td>\n",
       "      <td>846.00</td>\n",
       "    </tr>\n",
       "    <tr>\n",
       "      <th>bmi</th>\n",
       "      <td>308.0</td>\n",
       "      <td>33.184091</td>\n",
       "      <td>7.015049</td>\n",
       "      <td>19.300</td>\n",
       "      <td>28.40000</td>\n",
       "      <td>33.1500</td>\n",
       "      <td>37.40000</td>\n",
       "      <td>59.40</td>\n",
       "    </tr>\n",
       "    <tr>\n",
       "      <th>diabetes pedigree</th>\n",
       "      <td>308.0</td>\n",
       "      <td>0.516107</td>\n",
       "      <td>0.347444</td>\n",
       "      <td>0.085</td>\n",
       "      <td>0.26625</td>\n",
       "      <td>0.4335</td>\n",
       "      <td>0.68325</td>\n",
       "      <td>2.42</td>\n",
       "    </tr>\n",
       "    <tr>\n",
       "      <th>age</th>\n",
       "      <td>308.0</td>\n",
       "      <td>30.720779</td>\n",
       "      <td>10.093373</td>\n",
       "      <td>21.000</td>\n",
       "      <td>23.00000</td>\n",
       "      <td>27.0000</td>\n",
       "      <td>36.00000</td>\n",
       "      <td>81.00</td>\n",
       "    </tr>\n",
       "    <tr>\n",
       "      <th>diabetes</th>\n",
       "      <td>308.0</td>\n",
       "      <td>0.327922</td>\n",
       "      <td>0.470220</td>\n",
       "      <td>0.000</td>\n",
       "      <td>0.00000</td>\n",
       "      <td>0.0000</td>\n",
       "      <td>1.00000</td>\n",
       "      <td>1.00</td>\n",
       "    </tr>\n",
       "  </tbody>\n",
       "</table>\n",
       "</div>"
      ],
      "text/plain": [
       "                       count        mean         std     min        25%  \\\n",
       "p_id                   308.0  392.665584  219.391300   5.000  203.00000   \n",
       "no_times_pregnant      308.0    3.337662    3.221914   0.000    1.00000   \n",
       "glucose_concentration  308.0  122.402597   30.013139  68.000   99.75000   \n",
       "blood_pressure         308.0   70.370130   12.677637  24.000   62.00000   \n",
       "skin_fold_thickness    308.0   29.272727   10.786210   7.000   21.00000   \n",
       "serum_insulin          308.0  157.831169  123.455398  14.000   78.00000   \n",
       "bmi                    308.0   33.184091    7.015049  19.300   28.40000   \n",
       "diabetes pedigree      308.0    0.516107    0.347444   0.085    0.26625   \n",
       "age                    308.0   30.720779   10.093373  21.000   23.00000   \n",
       "diabetes               308.0    0.327922    0.470220   0.000    0.00000   \n",
       "\n",
       "                            50%        75%     max  \n",
       "p_id                   393.5000  574.25000  766.00  \n",
       "no_times_pregnant        2.0000    5.00000   17.00  \n",
       "glucose_concentration  119.0000  143.00000  197.00  \n",
       "blood_pressure          70.0000   78.00000  110.00  \n",
       "skin_fold_thickness     29.0000   37.00000   63.00  \n",
       "serum_insulin          126.0000  190.25000  846.00  \n",
       "bmi                     33.1500   37.40000   59.40  \n",
       "diabetes pedigree        0.4335    0.68325    2.42  \n",
       "age                     27.0000   36.00000   81.00  \n",
       "diabetes                 0.0000    1.00000    1.00  "
      ]
     },
     "execution_count": 484,
     "metadata": {},
     "output_type": "execute_result"
    }
   ],
   "source": [
    "raw_df.dropna(axis = 0, inplace = True)\n",
    "raw_df.describe().T"
   ]
  },
  {
   "cell_type": "markdown",
   "metadata": {},
   "source": [
    "Now the 0 values in places where it shouldn't be(mentioned above) are removed since they are erroneous values in those columns."
   ]
  },
  {
   "cell_type": "markdown",
   "metadata": {},
   "source": [
    "#### Step 4: Checking and converting to Proper Datatypes"
   ]
  },
  {
   "cell_type": "code",
   "execution_count": 485,
   "metadata": {},
   "outputs": [
    {
     "data": {
      "text/plain": [
       "p_id                       int64\n",
       "no_times_pregnant          int64\n",
       "glucose_concentration    float64\n",
       "blood_pressure           float64\n",
       "skin_fold_thickness      float64\n",
       "serum_insulin            float64\n",
       "bmi                      float64\n",
       "diabetes pedigree        float64\n",
       "age                        int64\n",
       "diabetes                   int64\n",
       "dtype: object"
      ]
     },
     "execution_count": 485,
     "metadata": {},
     "output_type": "execute_result"
    }
   ],
   "source": [
    "raw_df.dtypes"
   ]
  },
  {
   "cell_type": "code",
   "execution_count": 486,
   "metadata": {},
   "outputs": [
    {
     "data": {
      "text/plain": [
       "p_id                       int64\n",
       "no_times_pregnant          int64\n",
       "glucose_concentration      int64\n",
       "blood_pressure             int64\n",
       "skin_fold_thickness        int64\n",
       "serum_insulin              int64\n",
       "bmi                      float64\n",
       "diabetes pedigree        float64\n",
       "age                        int64\n",
       "diabetes                   int64\n",
       "dtype: object"
      ]
     },
     "execution_count": 486,
     "metadata": {},
     "output_type": "execute_result"
    }
   ],
   "source": [
    "raw_df[[\"glucose_concentration\", \"blood_pressure\", \"skin_fold_thickness\", \"serum_insulin\"]] = raw_df[[\"glucose_concentration\", \"blood_pressure\", \"skin_fold_thickness\", \"serum_insulin\"]].astype(\"int64\")\n",
    "raw_df.dtypes\n"
   ]
  },
  {
   "cell_type": "markdown",
   "metadata": {},
   "source": [
    "Hence, now the raw data set is converted into a data set that we can use."
   ]
  },
  {
   "cell_type": "code",
   "execution_count": 487,
   "metadata": {},
   "outputs": [],
   "source": [
    "df = raw_df"
   ]
  },
  {
   "cell_type": "markdown",
   "metadata": {},
   "source": [
    "#### Step 5: Understanding the variables better"
   ]
  },
  {
   "cell_type": "code",
   "execution_count": 488,
   "metadata": {},
   "outputs": [
    {
     "data": {
      "text/plain": [
       "array([[<AxesSubplot:title={'center':'p_id'}>,\n",
       "        <AxesSubplot:title={'center':'no_times_pregnant'}>,\n",
       "        <AxesSubplot:title={'center':'glucose_concentration'}>],\n",
       "       [<AxesSubplot:title={'center':'blood_pressure'}>,\n",
       "        <AxesSubplot:title={'center':'skin_fold_thickness'}>,\n",
       "        <AxesSubplot:title={'center':'serum_insulin'}>],\n",
       "       [<AxesSubplot:title={'center':'bmi'}>,\n",
       "        <AxesSubplot:title={'center':'diabetes pedigree'}>,\n",
       "        <AxesSubplot:title={'center':'age'}>],\n",
       "       [<AxesSubplot:title={'center':'diabetes'}>, <AxesSubplot:>,\n",
       "        <AxesSubplot:>]], dtype=object)"
      ]
     },
     "execution_count": 488,
     "metadata": {},
     "output_type": "execute_result"
    },
    {
     "data": {
      "image/png": "[encoded data removed]",
      "text/plain": [
       "<Figure size 1008x1152 with 12 Axes>"
      ]
     },
     "metadata": {},
     "output_type": "display_data"
    }
   ],
   "source": [
    "sns.set()\n",
    "raw_df.hist(figsize=(14,16))"
   ]
  },
  {
   "cell_type": "markdown",
   "metadata": {},
   "source": [
    "#### Step 6: Correlation and Causation"
   ]
  },
  {
   "cell_type": "markdown",
   "metadata": {},
   "source": [
    "Correlation: a measure of the extent of interdependence between variables.\n",
    "\n",
    "Causation: the relationship between cause and effect between two variables."
   ]
  },
  {
   "cell_type": "code",
   "execution_count": 489,
   "metadata": {},
   "outputs": [
    {
     "data": {
      "text/html": [
       "<div>\n",
       "<style scoped>\n",
       "    .dataframe tbody tr th:only-of-type {\n",
       "        vertical-align: middle;\n",
       "    }\n",
       "\n",
       "    .dataframe tbody tr th {\n",
       "        vertical-align: top;\n",
       "    }\n",
       "\n",
       "    .dataframe thead th {\n",
       "        text-align: right;\n",
       "    }\n",
       "</style>\n",
       "<table border=\"1\" class=\"dataframe\">\n",
       "  <thead>\n",
       "    <tr style=\"text-align: right;\">\n",
       "      <th></th>\n",
       "      <th>p_id</th>\n",
       "      <th>no_times_pregnant</th>\n",
       "      <th>glucose_concentration</th>\n",
       "      <th>blood_pressure</th>\n",
       "      <th>skin_fold_thickness</th>\n",
       "      <th>serum_insulin</th>\n",
       "      <th>bmi</th>\n",
       "      <th>diabetes pedigree</th>\n",
       "      <th>age</th>\n",
       "      <th>diabetes</th>\n",
       "    </tr>\n",
       "  </thead>\n",
       "  <tbody>\n",
       "    <tr>\n",
       "      <th>p_id</th>\n",
       "      <td>1.000000</td>\n",
       "      <td>-0.060073</td>\n",
       "      <td>-0.026744</td>\n",
       "      <td>0.091801</td>\n",
       "      <td>-0.020709</td>\n",
       "      <td>-0.017006</td>\n",
       "      <td>-0.010840</td>\n",
       "      <td>-0.034004</td>\n",
       "      <td>-0.038069</td>\n",
       "      <td>-0.129148</td>\n",
       "    </tr>\n",
       "    <tr>\n",
       "      <th>no_times_pregnant</th>\n",
       "      <td>-0.060073</td>\n",
       "      <td>1.000000</td>\n",
       "      <td>0.169406</td>\n",
       "      <td>0.213361</td>\n",
       "      <td>0.100819</td>\n",
       "      <td>0.027848</td>\n",
       "      <td>-0.038990</td>\n",
       "      <td>0.033506</td>\n",
       "      <td>0.683122</td>\n",
       "      <td>0.255631</td>\n",
       "    </tr>\n",
       "    <tr>\n",
       "      <th>glucose_concentration</th>\n",
       "      <td>-0.026744</td>\n",
       "      <td>0.169406</td>\n",
       "      <td>1.000000</td>\n",
       "      <td>0.229480</td>\n",
       "      <td>0.192839</td>\n",
       "      <td>0.579042</td>\n",
       "      <td>0.232221</td>\n",
       "      <td>0.144064</td>\n",
       "      <td>0.309478</td>\n",
       "      <td>0.518470</td>\n",
       "    </tr>\n",
       "    <tr>\n",
       "      <th>blood_pressure</th>\n",
       "      <td>0.091801</td>\n",
       "      <td>0.213361</td>\n",
       "      <td>0.229480</td>\n",
       "      <td>1.000000</td>\n",
       "      <td>0.254379</td>\n",
       "      <td>0.103938</td>\n",
       "      <td>0.281140</td>\n",
       "      <td>-0.031606</td>\n",
       "      <td>0.279831</td>\n",
       "      <td>0.182839</td>\n",
       "    </tr>\n",
       "    <tr>\n",
       "      <th>skin_fold_thickness</th>\n",
       "      <td>-0.020709</td>\n",
       "      <td>0.100819</td>\n",
       "      <td>0.192839</td>\n",
       "      <td>0.254379</td>\n",
       "      <td>1.000000</td>\n",
       "      <td>0.159252</td>\n",
       "      <td>0.678375</td>\n",
       "      <td>0.167127</td>\n",
       "      <td>0.196077</td>\n",
       "      <td>0.221219</td>\n",
       "    </tr>\n",
       "    <tr>\n",
       "      <th>serum_insulin</th>\n",
       "      <td>-0.017006</td>\n",
       "      <td>0.027848</td>\n",
       "      <td>0.579042</td>\n",
       "      <td>0.103938</td>\n",
       "      <td>0.159252</td>\n",
       "      <td>1.000000</td>\n",
       "      <td>0.214712</td>\n",
       "      <td>0.127666</td>\n",
       "      <td>0.215682</td>\n",
       "      <td>0.283477</td>\n",
       "    </tr>\n",
       "    <tr>\n",
       "      <th>bmi</th>\n",
       "      <td>-0.010840</td>\n",
       "      <td>-0.038990</td>\n",
       "      <td>0.232221</td>\n",
       "      <td>0.281140</td>\n",
       "      <td>0.678375</td>\n",
       "      <td>0.214712</td>\n",
       "      <td>1.000000</td>\n",
       "      <td>0.170066</td>\n",
       "      <td>0.071883</td>\n",
       "      <td>0.234534</td>\n",
       "    </tr>\n",
       "    <tr>\n",
       "      <th>diabetes pedigree</th>\n",
       "      <td>-0.034004</td>\n",
       "      <td>0.033506</td>\n",
       "      <td>0.144064</td>\n",
       "      <td>-0.031606</td>\n",
       "      <td>0.167127</td>\n",
       "      <td>0.127666</td>\n",
       "      <td>0.170066</td>\n",
       "      <td>1.000000</td>\n",
       "      <td>0.096697</td>\n",
       "      <td>0.211603</td>\n",
       "    </tr>\n",
       "    <tr>\n",
       "      <th>age</th>\n",
       "      <td>-0.038069</td>\n",
       "      <td>0.683122</td>\n",
       "      <td>0.309478</td>\n",
       "      <td>0.279831</td>\n",
       "      <td>0.196077</td>\n",
       "      <td>0.215682</td>\n",
       "      <td>0.071883</td>\n",
       "      <td>0.096697</td>\n",
       "      <td>1.000000</td>\n",
       "      <td>0.333001</td>\n",
       "    </tr>\n",
       "    <tr>\n",
       "      <th>diabetes</th>\n",
       "      <td>-0.129148</td>\n",
       "      <td>0.255631</td>\n",
       "      <td>0.518470</td>\n",
       "      <td>0.182839</td>\n",
       "      <td>0.221219</td>\n",
       "      <td>0.283477</td>\n",
       "      <td>0.234534</td>\n",
       "      <td>0.211603</td>\n",
       "      <td>0.333001</td>\n",
       "      <td>1.000000</td>\n",
       "    </tr>\n",
       "  </tbody>\n",
       "</table>\n",
       "</div>"
      ],
      "text/plain": [
       "                           p_id  no_times_pregnant  glucose_concentration  \\\n",
       "p_id                   1.000000          -0.060073              -0.026744   \n",
       "no_times_pregnant     -0.060073           1.000000               0.169406   \n",
       "glucose_concentration -0.026744           0.169406               1.000000   \n",
       "blood_pressure         0.091801           0.213361               0.229480   \n",
       "skin_fold_thickness   -0.020709           0.100819               0.192839   \n",
       "serum_insulin         -0.017006           0.027848               0.579042   \n",
       "bmi                   -0.010840          -0.038990               0.232221   \n",
       "diabetes pedigree     -0.034004           0.033506               0.144064   \n",
       "age                   -0.038069           0.683122               0.309478   \n",
       "diabetes              -0.129148           0.255631               0.518470   \n",
       "\n",
       "                       blood_pressure  skin_fold_thickness  serum_insulin  \\\n",
       "p_id                         0.091801            -0.020709      -0.017006   \n",
       "no_times_pregnant            0.213361             0.100819       0.027848   \n",
       "glucose_concentration        0.229480             0.192839       0.579042   \n",
       "blood_pressure               1.000000             0.254379       0.103938   \n",
       "skin_fold_thickness          0.254379             1.000000       0.159252   \n",
       "serum_insulin                0.103938             0.159252       1.000000   \n",
       "bmi                          0.281140             0.678375       0.214712   \n",
       "diabetes pedigree           -0.031606             0.167127       0.127666   \n",
       "age                          0.279831             0.196077       0.215682   \n",
       "diabetes                     0.182839             0.221219       0.283477   \n",
       "\n",
       "                            bmi  diabetes pedigree       age  diabetes  \n",
       "p_id                  -0.010840          -0.034004 -0.038069 -0.129148  \n",
       "no_times_pregnant     -0.038990           0.033506  0.683122  0.255631  \n",
       "glucose_concentration  0.232221           0.144064  0.309478  0.518470  \n",
       "blood_pressure         0.281140          -0.031606  0.279831  0.182839  \n",
       "skin_fold_thickness    0.678375           0.167127  0.196077  0.221219  \n",
       "serum_insulin          0.214712           0.127666  0.215682  0.283477  \n",
       "bmi                    1.000000           0.170066  0.071883  0.234534  \n",
       "diabetes pedigree      0.170066           1.000000  0.096697  0.211603  \n",
       "age                    0.071883           0.096697  1.000000  0.333001  \n",
       "diabetes               0.234534           0.211603  0.333001  1.000000  "
      ]
     },
     "execution_count": 489,
     "metadata": {},
     "output_type": "execute_result"
    }
   ],
   "source": [
    "raw_df.corr()"
   ]
  },
  {
   "cell_type": "markdown",
   "metadata": {},
   "source": [
    "### Part B: Performing KNN"
   ]
  },
  {
   "cell_type": "markdown",
   "metadata": {},
   "source": [
    "#### Step 1: Split up the dataset into inputs and targets"
   ]
  },
  {
   "cell_type": "code",
   "execution_count": 490,
   "metadata": {},
   "outputs": [],
   "source": [
    "df = df.drop(columns=['p_id'])\n",
    "y = df['diabetes'].values\n",
    "X = df.drop(columns=['diabetes'])"
   ]
  },
  {
   "cell_type": "markdown",
   "metadata": {},
   "source": [
    "#### Step 2: Split the dataset into train and test data"
   ]
  },
  {
   "cell_type": "code",
   "execution_count": 491,
   "metadata": {},
   "outputs": [],
   "source": [
    "from sklearn.model_selection import train_test_split\n",
    "#split dataset into train and test data\n",
    "X_train, X_test, y_train, y_test = train_test_split(X, y, test_size=0.2, random_state=1, stratify=y)"
   ]
  },
  {
   "cell_type": "markdown",
   "metadata": {},
   "source": [
    "#### Step 3: Selecting the best value for k"
   ]
  },
  {
   "cell_type": "code",
   "execution_count": 492,
   "metadata": {},
   "outputs": [],
   "source": [
    "from sklearn.metrics import mean_absolute_error, mean_squared_error\n",
    "from sklearn.neighbors import KNeighborsRegressor\n",
    "\n",
    "cost = []\n",
    "\n",
    "# Calculating MAE cost for the values of k vetween 2 to 20 and append them to cost list.\n",
    "for i in range(2, 20):\n",
    "    KNN_model = KNeighborsRegressor(n_neighbors=i)\n",
    "    KNN_model.fit(X_train, y_train)\n",
    "    pred_i = KNN_model.predict(X_test)\n",
    "    mean_AE = mean_absolute_error(y_test, pred_i)\n",
    "    cost.append(mean_AE)"
   ]
  },
  {
   "cell_type": "code",
   "execution_count": 493,
   "metadata": {},
   "outputs": [
    {
     "data": {
      "text/plain": [
       "Text(0, 0.5, 'Mean Absolute Error')"
      ]
     },
     "execution_count": 493,
     "metadata": {},
     "output_type": "execute_result"
    },
    {
     "data": {
      "image/png": "[encoded data removed]",
      "text/plain": [
       "<Figure size 864x432 with 1 Axes>"
      ]
     },
     "metadata": {},
     "output_type": "display_data"
    }
   ],
   "source": [
    "import matplotlib.pyplot as plt \n",
    "\n",
    "plt.figure(figsize=(12, 6))\n",
    "plt.plot(range(2, 20), cost, color='red',  marker='o', markerfacecolor='black')\n",
    "         \n",
    "plt.title('K Value MAE')\n",
    "plt.xlabel('K Value')\n",
    "plt.ylabel('Mean Absolute Error')"
   ]
  },
  {
   "cell_type": "markdown",
   "metadata": {},
   "source": [
    "Hence, we can conclude that the best value to take for k in k-nearest neighbours is 5, since it will minimize the Mean Absolute Error and provide the best model."
   ]
  },
  {
   "cell_type": "markdown",
   "metadata": {},
   "source": [
    "#### Step 4: Building and training the model"
   ]
  },
  {
   "cell_type": "code",
   "execution_count": 494,
   "metadata": {},
   "outputs": [
    {
     "data": {
      "text/html": [
       "<style>#sk-container-id-21 {color: black;background-color: white;}#sk-container-id-21 pre{padding: 0;}#sk-container-id-21 div.sk-toggleable {background-color: white;}#sk-container-id-21 label.sk-toggleable__label {cursor: pointer;display: block;width: 100%;margin-bottom: 0;padding: 0.3em;box-sizing: border-box;text-align: center;}#sk-container-id-21 label.sk-toggleable__label-arrow:before {content: \"▸\";float: left;margin-right: 0.25em;color: #696969;}#sk-container-id-21 label.sk-toggleable__label-arrow:hover:before {color: black;}#sk-container-id-21 div.sk-estimator:hover label.sk-toggleable__label-arrow:before {color: black;}#sk-container-id-21 div.sk-toggleable__content {max-height: 0;max-width: 0;overflow: hidden;text-align: left;background-color: #f0f8ff;}#sk-container-id-21 div.sk-toggleable__content pre {margin: 0.2em;color: black;border-radius: 0.25em;background-color: #f0f8ff;}#sk-container-id-21 input.sk-toggleable__control:checked~div.sk-toggleable__content {max-height: 200px;max-width: 100%;overflow: auto;}#sk-container-id-21 input.sk-toggleable__control:checked~label.sk-toggleable__label-arrow:before {content: \"▾\";}#sk-container-id-21 div.sk-estimator input.sk-toggleable__control:checked~label.sk-toggleable__label {background-color: #d4ebff;}#sk-container-id-21 div.sk-label input.sk-toggleable__control:checked~label.sk-toggleable__label {background-color: #d4ebff;}#sk-container-id-21 input.sk-hidden--visually {border: 0;clip: rect(1px 1px 1px 1px);clip: rect(1px, 1px, 1px, 1px);height: 1px;margin: -1px;overflow: hidden;padding: 0;position: absolute;width: 1px;}#sk-container-id-21 div.sk-estimator {font-family: monospace;background-color: #f0f8ff;border: 1px dotted black;border-radius: 0.25em;box-sizing: border-box;margin-bottom: 0.5em;}#sk-container-id-21 div.sk-estimator:hover {background-color: #d4ebff;}#sk-container-id-21 div.sk-parallel-item::after {content: \"\";width: 100%;border-bottom: 1px solid gray;flex-grow: 1;}#sk-container-id-21 div.sk-label:hover label.sk-toggleable__label {background-color: #d4ebff;}#sk-container-id-21 div.sk-serial::before {content: \"\";position: absolute;border-left: 1px solid gray;box-sizing: border-box;top: 0;bottom: 0;left: 50%;z-index: 0;}#sk-container-id-21 div.sk-serial {display: flex;flex-direction: column;align-items: center;background-color: white;padding-right: 0.2em;padding-left: 0.2em;position: relative;}#sk-container-id-21 div.sk-item {position: relative;z-index: 1;}#sk-container-id-21 div.sk-parallel {display: flex;align-items: stretch;justify-content: center;background-color: white;position: relative;}#sk-container-id-21 div.sk-item::before, #sk-container-id-21 div.sk-parallel-item::before {content: \"\";position: absolute;border-left: 1px solid gray;box-sizing: border-box;top: 0;bottom: 0;left: 50%;z-index: -1;}#sk-container-id-21 div.sk-parallel-item {display: flex;flex-direction: column;z-index: 1;position: relative;background-color: white;}#sk-container-id-21 div.sk-parallel-item:first-child::after {align-self: flex-end;width: 50%;}#sk-container-id-21 div.sk-parallel-item:last-child::after {align-self: flex-start;width: 50%;}#sk-container-id-21 div.sk-parallel-item:only-child::after {width: 0;}#sk-container-id-21 div.sk-dashed-wrapped {border: 1px dashed gray;margin: 0 0.4em 0.5em 0.4em;box-sizing: border-box;padding-bottom: 0.4em;background-color: white;}#sk-container-id-21 div.sk-label label {font-family: monospace;font-weight: bold;display: inline-block;line-height: 1.2em;}#sk-container-id-21 div.sk-label-container {text-align: center;}#sk-container-id-21 div.sk-container {/* jupyter's `normalize.less` sets `[hidden] { display: none; }` but bootstrap.min.css set `[hidden] { display: none !important; }` so we also need the `!important` here to be able to override the default hidden behavior on the sphinx rendered scikit-learn.org. See: https://github.com/scikit-learn/scikit-learn/issues/21755 */display: inline-block !important;position: relative;}#sk-container-id-21 div.sk-text-repr-fallback {display: none;}</style><div id=\"sk-container-id-21\" class=\"sk-top-container\"><div class=\"sk-text-repr-fallback\"><pre>KNeighborsClassifier()</pre><b>In a Jupyter environment, please rerun this cell to show the HTML representation or trust the notebook. <br />On GitHub, the HTML representation is unable to render, please try loading this page with nbviewer.org.</b></div><div class=\"sk-container\" hidden><div class=\"sk-item\"><div class=\"sk-estimator sk-toggleable\"><input class=\"sk-toggleable__control sk-hidden--visually\" id=\"sk-estimator-id-21\" type=\"checkbox\" checked><label for=\"sk-estimator-id-21\" class=\"sk-toggleable__label sk-toggleable__label-arrow\">KNeighborsClassifier</label><div class=\"sk-toggleable__content\"><pre>KNeighborsClassifier()</pre></div></div></div></div></div>"
      ],
      "text/plain": [
       "KNeighborsClassifier()"
      ]
     },
     "execution_count": 494,
     "metadata": {},
     "output_type": "execute_result"
    }
   ],
   "source": [
    "from sklearn.neighbors import KNeighborsClassifier\n",
    "# Create KNN classifier\n",
    "KNN_model = KNeighborsClassifier(n_neighbors = 5)\n",
    "# Fit the classifier to the data\n",
    "KNN_model.fit(X_train,y_train)"
   ]
  },
  {
   "cell_type": "markdown",
   "metadata": {},
   "source": [
    "#### Step 5: Testing the model"
   ]
  },
  {
   "cell_type": "code",
   "execution_count": 495,
   "metadata": {},
   "outputs": [],
   "source": [
    "y_pred = KNN_model.predict(X_test)"
   ]
  },
  {
   "cell_type": "markdown",
   "metadata": {},
   "source": [
    "#### Step 6: Analysing performance"
   ]
  },
  {
   "cell_type": "code",
   "execution_count": 496,
   "metadata": {},
   "outputs": [
    {
     "data": {
      "text/plain": [
       "0.6774193548387096"
      ]
     },
     "execution_count": 496,
     "metadata": {},
     "output_type": "execute_result"
    }
   ],
   "source": [
    "#check accuracy of our model on the test data\n",
    "KNN_model.score(X_test, y_test)"
   ]
  },
  {
   "cell_type": "code",
   "execution_count": 497,
   "metadata": {},
   "outputs": [
    {
     "name": "stdout",
     "output_type": "stream",
     "text": [
      "Mean Absolute Error:  0.3225806451612903\n",
      "Mean Squared Error:  0.3225806451612903\n",
      "Root Mean Squared Error:  0.5679618342470648\n"
     ]
    }
   ],
   "source": [
    "mae = mean_absolute_error(y_test, y_pred)\n",
    "mse = mean_squared_error(y_test, y_pred)\n",
    "rmse = mean_squared_error(y_test, y_pred, squared=False)\n",
    "print(\"Mean Absolute Error: \", mae)\n",
    "print(\"Mean Squared Error: \", mse)\n",
    "print(\"Root Mean Squared Error: \", rmse)"
   ]
  },
  {
   "cell_type": "markdown",
   "metadata": {},
   "source": [
    "### Part C: Performing KNN on the scaled data"
   ]
  },
  {
   "cell_type": "markdown",
   "metadata": {},
   "source": [
    "#### Scaling the data and reperforming KNN"
   ]
  },
  {
   "cell_type": "code",
   "execution_count": 498,
   "metadata": {},
   "outputs": [
    {
     "data": {
      "text/html": [
       "<div>\n",
       "<style scoped>\n",
       "    .dataframe tbody tr th:only-of-type {\n",
       "        vertical-align: middle;\n",
       "    }\n",
       "\n",
       "    .dataframe tbody tr th {\n",
       "        vertical-align: top;\n",
       "    }\n",
       "\n",
       "    .dataframe thead th {\n",
       "        text-align: right;\n",
       "    }\n",
       "</style>\n",
       "<table border=\"1\" class=\"dataframe\">\n",
       "  <thead>\n",
       "    <tr style=\"text-align: right;\">\n",
       "      <th></th>\n",
       "      <th>Pregnancies_count</th>\n",
       "      <th>Glucose_concentration</th>\n",
       "      <th>BloodPressure</th>\n",
       "      <th>SkinThickness</th>\n",
       "      <th>Insulin</th>\n",
       "      <th>BMI</th>\n",
       "      <th>DiabetesPedigreeFunction</th>\n",
       "      <th>Age</th>\n",
       "    </tr>\n",
       "  </thead>\n",
       "  <tbody>\n",
       "    <tr>\n",
       "      <th>0</th>\n",
       "      <td>-0.415852</td>\n",
       "      <td>-0.347165</td>\n",
       "      <td>-0.187258</td>\n",
       "      <td>-0.675359</td>\n",
       "      <td>-0.517880</td>\n",
       "      <td>0.130776</td>\n",
       "      <td>-0.579761</td>\n",
       "      <td>-0.468472</td>\n",
       "    </tr>\n",
       "    <tr>\n",
       "      <th>1</th>\n",
       "      <td>2.382065</td>\n",
       "      <td>0.687396</td>\n",
       "      <td>1.866935</td>\n",
       "      <td>0.346121</td>\n",
       "      <td>-0.095990</td>\n",
       "      <td>0.487733</td>\n",
       "      <td>-0.755615</td>\n",
       "      <td>2.012432</td>\n",
       "    </tr>\n",
       "    <tr>\n",
       "      <th>2</th>\n",
       "      <td>-0.415852</td>\n",
       "      <td>-0.981252</td>\n",
       "      <td>-0.503287</td>\n",
       "      <td>0.253260</td>\n",
       "      <td>0.017596</td>\n",
       "      <td>0.687628</td>\n",
       "      <td>0.455181</td>\n",
       "      <td>-0.766180</td>\n",
       "    </tr>\n",
       "    <tr>\n",
       "      <th>3</th>\n",
       "      <td>-0.726732</td>\n",
       "      <td>-0.080182</td>\n",
       "      <td>0.760831</td>\n",
       "      <td>1.739049</td>\n",
       "      <td>0.342127</td>\n",
       "      <td>0.816133</td>\n",
       "      <td>1.862011</td>\n",
       "      <td>1.020070</td>\n",
       "    </tr>\n",
       "    <tr>\n",
       "      <th>4</th>\n",
       "      <td>-0.104972</td>\n",
       "      <td>0.186802</td>\n",
       "      <td>0.128772</td>\n",
       "      <td>-0.396773</td>\n",
       "      <td>0.260995</td>\n",
       "      <td>-0.111955</td>\n",
       "      <td>0.094825</td>\n",
       "      <td>-0.369236</td>\n",
       "    </tr>\n",
       "  </tbody>\n",
       "</table>\n",
       "</div>"
      ],
      "text/plain": [
       "   Pregnancies_count  Glucose_concentration  BloodPressure  SkinThickness  \\\n",
       "0          -0.415852              -0.347165      -0.187258      -0.675359   \n",
       "1           2.382065               0.687396       1.866935       0.346121   \n",
       "2          -0.415852              -0.981252      -0.503287       0.253260   \n",
       "3          -0.726732              -0.080182       0.760831       1.739049   \n",
       "4          -0.104972               0.186802       0.128772      -0.396773   \n",
       "\n",
       "    Insulin       BMI  DiabetesPedigreeFunction       Age  \n",
       "0 -0.517880  0.130776                 -0.579761 -0.468472  \n",
       "1 -0.095990  0.487733                 -0.755615  2.012432  \n",
       "2  0.017596  0.687628                  0.455181 -0.766180  \n",
       "3  0.342127  0.816133                  1.862011  1.020070  \n",
       "4  0.260995 -0.111955                  0.094825 -0.369236  "
      ]
     },
     "execution_count": 498,
     "metadata": {},
     "output_type": "execute_result"
    }
   ],
   "source": [
    "from sklearn.preprocessing import StandardScaler\n",
    "sc = StandardScaler()\n",
    "transformed = sc.fit_transform(X)\n",
    "X_scaled =  pd.DataFrame(transformed,\n",
    "        columns=['Pregnancies_count', 'Glucose_concentration', 'BloodPressure', 'SkinThickness', 'Insulin',\n",
    "       'BMI', 'DiabetesPedigreeFunction', 'Age'])\n",
    "X_scaled.head()"
   ]
  },
  {
   "cell_type": "code",
   "execution_count": 499,
   "metadata": {},
   "outputs": [],
   "source": [
    "from sklearn.model_selection import train_test_split\n",
    "#split dataset into train and test data\n",
    "X1_train, X1_test, y1_train, y1_test = train_test_split(X_scaled, y, test_size=0.2, random_state=1, stratify=y)"
   ]
  },
  {
   "cell_type": "code",
   "execution_count": 500,
   "metadata": {},
   "outputs": [
    {
     "data": {
      "text/html": [
       "<style>#sk-container-id-22 {color: black;background-color: white;}#sk-container-id-22 pre{padding: 0;}#sk-container-id-22 div.sk-toggleable {background-color: white;}#sk-container-id-22 label.sk-toggleable__label {cursor: pointer;display: block;width: 100%;margin-bottom: 0;padding: 0.3em;box-sizing: border-box;text-align: center;}#sk-container-id-22 label.sk-toggleable__label-arrow:before {content: \"▸\";float: left;margin-right: 0.25em;color: #696969;}#sk-container-id-22 label.sk-toggleable__label-arrow:hover:before {color: black;}#sk-container-id-22 div.sk-estimator:hover label.sk-toggleable__label-arrow:before {color: black;}#sk-container-id-22 div.sk-toggleable__content {max-height: 0;max-width: 0;overflow: hidden;text-align: left;background-color: #f0f8ff;}#sk-container-id-22 div.sk-toggleable__content pre {margin: 0.2em;color: black;border-radius: 0.25em;background-color: #f0f8ff;}#sk-container-id-22 input.sk-toggleable__control:checked~div.sk-toggleable__content {max-height: 200px;max-width: 100%;overflow: auto;}#sk-container-id-22 input.sk-toggleable__control:checked~label.sk-toggleable__label-arrow:before {content: \"▾\";}#sk-container-id-22 div.sk-estimator input.sk-toggleable__control:checked~label.sk-toggleable__label {background-color: #d4ebff;}#sk-container-id-22 div.sk-label input.sk-toggleable__control:checked~label.sk-toggleable__label {background-color: #d4ebff;}#sk-container-id-22 input.sk-hidden--visually {border: 0;clip: rect(1px 1px 1px 1px);clip: rect(1px, 1px, 1px, 1px);height: 1px;margin: -1px;overflow: hidden;padding: 0;position: absolute;width: 1px;}#sk-container-id-22 div.sk-estimator {font-family: monospace;background-color: #f0f8ff;border: 1px dotted black;border-radius: 0.25em;box-sizing: border-box;margin-bottom: 0.5em;}#sk-container-id-22 div.sk-estimator:hover {background-color: #d4ebff;}#sk-container-id-22 div.sk-parallel-item::after {content: \"\";width: 100%;border-bottom: 1px solid gray;flex-grow: 1;}#sk-container-id-22 div.sk-label:hover label.sk-toggleable__label {background-color: #d4ebff;}#sk-container-id-22 div.sk-serial::before {content: \"\";position: absolute;border-left: 1px solid gray;box-sizing: border-box;top: 0;bottom: 0;left: 50%;z-index: 0;}#sk-container-id-22 div.sk-serial {display: flex;flex-direction: column;align-items: center;background-color: white;padding-right: 0.2em;padding-left: 0.2em;position: relative;}#sk-container-id-22 div.sk-item {position: relative;z-index: 1;}#sk-container-id-22 div.sk-parallel {display: flex;align-items: stretch;justify-content: center;background-color: white;position: relative;}#sk-container-id-22 div.sk-item::before, #sk-container-id-22 div.sk-parallel-item::before {content: \"\";position: absolute;border-left: 1px solid gray;box-sizing: border-box;top: 0;bottom: 0;left: 50%;z-index: -1;}#sk-container-id-22 div.sk-parallel-item {display: flex;flex-direction: column;z-index: 1;position: relative;background-color: white;}#sk-container-id-22 div.sk-parallel-item:first-child::after {align-self: flex-end;width: 50%;}#sk-container-id-22 div.sk-parallel-item:last-child::after {align-self: flex-start;width: 50%;}#sk-container-id-22 div.sk-parallel-item:only-child::after {width: 0;}#sk-container-id-22 div.sk-dashed-wrapped {border: 1px dashed gray;margin: 0 0.4em 0.5em 0.4em;box-sizing: border-box;padding-bottom: 0.4em;background-color: white;}#sk-container-id-22 div.sk-label label {font-family: monospace;font-weight: bold;display: inline-block;line-height: 1.2em;}#sk-container-id-22 div.sk-label-container {text-align: center;}#sk-container-id-22 div.sk-container {/* jupyter's `normalize.less` sets `[hidden] { display: none; }` but bootstrap.min.css set `[hidden] { display: none !important; }` so we also need the `!important` here to be able to override the default hidden behavior on the sphinx rendered scikit-learn.org. See: https://github.com/scikit-learn/scikit-learn/issues/21755 */display: inline-block !important;position: relative;}#sk-container-id-22 div.sk-text-repr-fallback {display: none;}</style><div id=\"sk-container-id-22\" class=\"sk-top-container\"><div class=\"sk-text-repr-fallback\"><pre>KNeighborsClassifier()</pre><b>In a Jupyter environment, please rerun this cell to show the HTML representation or trust the notebook. <br />On GitHub, the HTML representation is unable to render, please try loading this page with nbviewer.org.</b></div><div class=\"sk-container\" hidden><div class=\"sk-item\"><div class=\"sk-estimator sk-toggleable\"><input class=\"sk-toggleable__control sk-hidden--visually\" id=\"sk-estimator-id-22\" type=\"checkbox\" checked><label for=\"sk-estimator-id-22\" class=\"sk-toggleable__label sk-toggleable__label-arrow\">KNeighborsClassifier</label><div class=\"sk-toggleable__content\"><pre>KNeighborsClassifier()</pre></div></div></div></div></div>"
      ],
      "text/plain": [
       "KNeighborsClassifier()"
      ]
     },
     "execution_count": 500,
     "metadata": {},
     "output_type": "execute_result"
    }
   ],
   "source": [
    "from sklearn.neighbors import KNeighborsClassifier\n",
    "# Create KNN classifier\n",
    "KNN_model = KNeighborsClassifier(n_neighbors = 5)\n",
    "# Fit the classifier to the data\n",
    "KNN_model.fit(X1_train,y1_train)"
   ]
  },
  {
   "cell_type": "code",
   "execution_count": 501,
   "metadata": {},
   "outputs": [],
   "source": [
    "y_pred_scaled = KNN_model.predict(X1_test)"
   ]
  },
  {
   "cell_type": "code",
   "execution_count": 502,
   "metadata": {},
   "outputs": [
    {
     "data": {
      "text/plain": [
       "0.8064516129032258"
      ]
     },
     "execution_count": 502,
     "metadata": {},
     "output_type": "execute_result"
    }
   ],
   "source": [
    "#Check the Accuracy Score of the Scaled/Normalized version of Data\n",
    "KNN_model.score(X1_test, y1_test)\n"
   ]
  },
  {
   "cell_type": "code",
   "execution_count": 503,
   "metadata": {},
   "outputs": [
    {
     "name": "stdout",
     "output_type": "stream",
     "text": [
      "Mean Absolute Error:  0.1935483870967742\n",
      "Mean Squared Error:  0.1935483870967742\n",
      "Root Mean Squared Error:  0.43994134506405985\n"
     ]
    }
   ],
   "source": [
    "mae = mean_absolute_error(y1_test, y_pred_scaled)\n",
    "mse = mean_squared_error(y1_test, y_pred_scaled)\n",
    "rmse = mean_squared_error(y1_test, y_pred_scaled, squared=False)\n",
    "print(\"Mean Absolute Error: \", mae)\n",
    "print(\"Mean Squared Error: \", mse)\n",
    "print(\"Root Mean Squared Error: \", rmse)"
   ]
  },
  {
   "cell_type": "markdown",
   "metadata": {},
   "source": [
    "As we can note that the scaled data did improve the performance. The KNN_model score went up from around 0.68 to around 0.80. Which is a huge jump in terms of accuracy of the model. Furthermore, our performance metrics also show that the Mean Absolute Error, Mean Squared Error and the Root Mean Squared Error all decreased by about 0.11, which is great in terms of the reliability of the model. This is highly due to the fact that the bias is reduced as the range of values in fields like age were from 21 to 81 etc. This helps us normalize the value and put all the features at an equal footing."
   ]
  },
  {
   "cell_type": "markdown",
   "metadata": {},
   "source": [
    "#### Part D: Comparing the performance of the best KNN classifier with the Naïve Bayes algorithm."
   ]
  },
  {
   "cell_type": "markdown",
   "metadata": {},
   "source": [
    "KNN and Naive Bayes algorithm, are both examples of supervised learning. However, Naive Bayes is a linear classifier while K-NN is not. For Naive Bayes, When used with massive data, it frequently runs quicker. Because of the calculations needed for each new step in the process, KNN is typically slower for large data sets. Naive Bayes is preferable to KNN if speed is a concern. Furthermore, the Naive Bayes algorithm doesn't have issues with the curse of dimensionality and large feature sets unlike KNN. However, In favor of KNN, You don't need to be familiar with the underlying probability distributions in order to use KNN.\n",
    "\n",
    "Since this is not a relatively big dataset with a large feature set it is tempting to think that KNN classifier will work better. However, The Naive Bayes algorithm works well here due to the fact that the probability distributions are very much available for each feature. It helps to linearly classify this dataset using an algorithm like Naive Bayes."
   ]
  }
 ],
 "metadata": {
  "kernelspec": {
   "display_name": "Python 3.10.6 64-bit (microsoft store)",
   "language": "python",
   "name": "python3"
  },
  "language_info": {
   "codemirror_mode": {
    "name": "ipython",
    "version": 3
   },
   "file_extension": ".py",
   "mimetype": "text/x-python",
   "name": "python",
   "nbconvert_exporter": "python",
   "pygments_lexer": "ipython3",
   "version": "3.10.6"
  },
  "orig_nbformat": 4,
  "vscode": {
   "interpreter": {
    "hash": "a97dfee85535fb1d5b47fe9558cac8ab9061198b8187c5e3fe351ac320e8c61d"
   }
  }
 },
 "nbformat": 4,
 "nbformat_minor": 2
}
