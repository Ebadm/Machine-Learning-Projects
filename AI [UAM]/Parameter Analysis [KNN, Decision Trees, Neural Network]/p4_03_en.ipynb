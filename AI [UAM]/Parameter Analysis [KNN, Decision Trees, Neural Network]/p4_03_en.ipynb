{
 "cells": [
  {
   "cell_type": "markdown",
   "metadata": {
    "collapsed": true
   },
   "source": [
    "# AI Lab Assignment 4"
   ]
  },
  {
   "cell_type": "markdown",
   "metadata": {
    "collapsed": true
   },
   "source": [
    "## 3. Text processing and unbalanced data (3 points)"
   ]
  },
  {
   "cell_type": "code",
   "execution_count": 72,
   "metadata": {},
   "outputs": [
    {
     "data": {
      "text/html": [
       "<div>\n",
       "<style scoped>\n",
       "    .dataframe tbody tr th:only-of-type {\n",
       "        vertical-align: middle;\n",
       "    }\n",
       "\n",
       "    .dataframe tbody tr th {\n",
       "        vertical-align: top;\n",
       "    }\n",
       "\n",
       "    .dataframe thead th {\n",
       "        text-align: right;\n",
       "    }\n",
       "</style>\n",
       "<table border=\"1\" class=\"dataframe\">\n",
       "  <thead>\n",
       "    <tr style=\"text-align: right;\">\n",
       "      <th></th>\n",
       "      <th>SentenceId</th>\n",
       "      <th>Phrase</th>\n",
       "      <th>Sentiment</th>\n",
       "    </tr>\n",
       "    <tr>\n",
       "      <th>PhraseId</th>\n",
       "      <th></th>\n",
       "      <th></th>\n",
       "      <th></th>\n",
       "    </tr>\n",
       "  </thead>\n",
       "  <tbody>\n",
       "    <tr>\n",
       "      <th>1</th>\n",
       "      <td>1</td>\n",
       "      <td>A series of escapades demonstrating the adage that what is good for the goose is also good for the gander , some of which occasionally amuses but none of which amounts to much of a story .</td>\n",
       "      <td>1</td>\n",
       "    </tr>\n",
       "    <tr>\n",
       "      <th>2</th>\n",
       "      <td>1</td>\n",
       "      <td>A series of escapades demonstrating the adage that what is good for the goose</td>\n",
       "      <td>2</td>\n",
       "    </tr>\n",
       "  </tbody>\n",
       "</table>\n",
       "</div>"
      ],
      "text/plain": [
       "          SentenceId  \\\n",
       "PhraseId               \n",
       "1                  1   \n",
       "2                  1   \n",
       "\n",
       "                                                                                                                                                                                                Phrase  \\\n",
       "PhraseId                                                                                                                                                                                                 \n",
       "1         A series of escapades demonstrating the adage that what is good for the goose is also good for the gander , some of which occasionally amuses but none of which amounts to much of a story .   \n",
       "2                                                                                                                        A series of escapades demonstrating the adage that what is good for the goose   \n",
       "\n",
       "          Sentiment  \n",
       "PhraseId             \n",
       "1                 1  \n",
       "2                 2  "
      ]
     },
     "execution_count": 72,
     "metadata": {},
     "output_type": "execute_result"
    }
   ],
   "source": [
    "import pandas as pd\n",
    "\n",
    "df = pd.read_csv(\"train.tsv\", sep='\\t', index_col=\"PhraseId\")\n",
    "pd.set_option('display.max_colwidth', None)\n",
    "df.head(2)"
   ]
  },
  {
   "cell_type": "markdown",
   "metadata": {},
   "source": [
    "We will use a dataset to predict the sentiment of some text from tagged phrases.\n",
    "Labels for sentiments are:\n",
    "\n",
    "* 0 - negative\n",
    "* 1 - somewhat negative\n",
    "* 2 - neutral\n",
    "* 3 - somewhat positive\n",
    "* 4 - positive\n",
    "\n",
    "More information [here](https://www.kaggle.com/c/sentiment-analysis-on-movie-reviews).\n",
    "\n",
    "\n",
    "Throughout this exercise we will see different ways of processing the text and balancing the classes to be learned."
   ]
  },
  {
   "cell_type": "code",
   "execution_count": 73,
   "metadata": {},
   "outputs": [],
   "source": [
    "from sklearn.model_selection import train_test_split\n",
    "\n",
    "train, test = train_test_split(df[[\"Phrase\", \"Sentiment\"]], random_state=0)\n",
    "X_train = train.Phrase\n",
    "X_test = test.Phrase\n",
    "y_train = train.Sentiment\n",
    "y_test = test.Sentiment"
   ]
  },
  {
   "cell_type": "markdown",
   "metadata": {},
   "source": [
    "**Basic Models**"
   ]
  },
  {
   "cell_type": "markdown",
   "metadata": {},
   "source": [
    "We are going to start with a *pipe* of very basic models and see if they have any issues."
   ]
  },
  {
   "cell_type": "code",
   "execution_count": 74,
   "metadata": {},
   "outputs": [],
   "source": [
    "from sklearn.feature_extraction.text import CountVectorizer\n",
    "from sklearn.pipeline import make_pipeline\n",
    "from sklearn.tree import DecisionTreeClassifier\n",
    "\n",
    "count_vectorizer = CountVectorizer(max_features=1000)\n",
    "decision_tree = DecisionTreeClassifier(criterion='entropy', max_depth=2)\n",
    "pipe = make_pipeline(count_vectorizer,decision_tree)"
   ]
  },
  {
   "cell_type": "code",
   "execution_count": 75,
   "metadata": {},
   "outputs": [],
   "source": [
    "from sklearn.metrics import accuracy_score\n",
    "\n",
    "def get_accuracy(pipe):\n",
    "    pipe.fit(X_train, y_train)\n",
    "    y_pred = pipe.predict(X_test)\n",
    "    return round(accuracy_score(y_pred, y_test),3)"
   ]
  },
  {
   "cell_type": "code",
   "execution_count": 89,
   "metadata": {},
   "outputs": [
    {
     "data": {
      "text/plain": [
       "0.515"
      ]
     },
     "execution_count": 89,
     "metadata": {},
     "output_type": "execute_result"
    }
   ],
   "source": [
    "get_accuracy(pipe)"
   ]
  },
  {
   "cell_type": "markdown",
   "metadata": {},
   "source": [
    "Let's see which classes are actually being predicted"
   ]
  },
  {
   "cell_type": "code",
   "execution_count": null,
   "metadata": {},
   "outputs": [
    {
     "data": {
      "text/plain": [
       "2    0.51\n",
       "3    0.21\n",
       "1    0.17\n",
       "4    0.06\n",
       "0    0.04\n",
       "Name: Sentiment, dtype: float64"
      ]
     },
     "execution_count": 9,
     "metadata": {},
     "output_type": "execute_result"
    }
   ],
   "source": [
    "# Training labels\n",
    "round(pd.Series(y_train).value_counts(normalize=True),2)"
   ]
  },
  {
   "cell_type": "code",
   "execution_count": null,
   "metadata": {},
   "outputs": [
    {
     "data": {
      "text/plain": [
       "2    0.97\n",
       "3    0.03\n",
       "dtype: float64"
      ]
     },
     "execution_count": 10,
     "metadata": {},
     "output_type": "execute_result"
    }
   ],
   "source": [
    "# Predicted classes\n",
    "y_pred = pipe.predict(X_test)\n",
    "round(pd.Series(y_pred).value_counts(normalize=True),2)"
   ]
  },
  {
   "cell_type": "markdown",
   "metadata": {},
   "source": [
    "That is: being an unbalanced problem, the prediction is clearly biased towards one of the classes.\n",
    "\n",
    "This can also be seen by analyzing the **confusion matrix**"
   ]
  },
  {
   "cell_type": "code",
   "execution_count": null,
   "metadata": {},
   "outputs": [
    {
     "data": {
      "image/png": "[encoded data removed]",
      "text/plain": [
       "<Figure size 720x360 with 2 Axes>"
      ]
     },
     "metadata": {
      "needs_background": "light"
     },
     "output_type": "display_data"
    }
   ],
   "source": [
    "import numpy as np\n",
    "from sklearn.metrics import confusion_matrix\n",
    "import matplotlib.pyplot as plt\n",
    "\n",
    "def plot_confusion_matrix(pipe):\n",
    "    ticks = np.unique(y_test)\n",
    "    labels = [('class '+ str(tick)) for tick in ticks]\n",
    "    y_pred = pipe.predict(X_test)\n",
    "    cm = confusion_matrix(y_test, y_pred)\n",
    "    fig = plt.figure(figsize=(10, 5))\n",
    "    ax = fig.add_subplot(111)\n",
    "    cax = ax.matshow(cm)\n",
    "    plt.title('Confusion matrix')\n",
    "    fig.colorbar(cax)\n",
    "    ax.set_xticks(ticks)\n",
    "    ax.set_xticklabels(labels)\n",
    "    ax.set_yticks(ticks)\n",
    "    ax.set_yticklabels(labels)\n",
    "    plt.xlabel('Predicted')\n",
    "    plt.ylabel('True')\n",
    "    plt.show()\n",
    "\n",
    "plot_confusion_matrix(pipe)"
   ]
  },
  {
   "cell_type": "markdown",
   "metadata": {},
   "source": [
    "## Changing models and data processing"
   ]
  },
  {
   "cell_type": "markdown",
   "metadata": {},
   "source": [
    "Analyze if any of the other models seen in previous exercises avoid this problem of unbalanced classes.\n",
    "\n",
    "For example, in the following cell we changed the decision tree classifier and used a KNN instead."
   ]
  },
  {
   "cell_type": "code",
   "execution_count": null,
   "metadata": {},
   "outputs": [
    {
     "data": {
      "text/plain": [
       "0.564"
      ]
     },
     "execution_count": 41,
     "metadata": {},
     "output_type": "execute_result"
    }
   ],
   "source": [
    "from sklearn.neighbors import KNeighborsClassifier\n",
    "\n",
    "knn = KNeighborsClassifier(n_neighbors=1)\n",
    "pipe_knn = make_pipeline(count_vectorizer,knn)\n",
    "get_accuracy(pipe_knn)"
   ]
  },
  {
   "cell_type": "code",
   "execution_count": null,
   "metadata": {},
   "outputs": [
    {
     "data": {
      "image/png": "[encoded data removed]",
      "text/plain": [
       "<Figure size 720x360 with 2 Axes>"
      ]
     },
     "metadata": {
      "needs_background": "light"
     },
     "output_type": "display_data"
    }
   ],
   "source": [
    "plot_confusion_matrix(pipe_knn)"
   ]
  },
  {
   "cell_type": "code",
   "execution_count": null,
   "metadata": {},
   "outputs": [
    {
     "data": {
      "text/plain": [
       "2    0.56\n",
       "3    0.19\n",
       "1    0.15\n",
       "4    0.05\n",
       "0    0.04\n",
       "dtype: float64"
      ]
     },
     "execution_count": 42,
     "metadata": {},
     "output_type": "execute_result"
    }
   ],
   "source": [
    "# Predicted classes\n",
    "y_pred = pipe_knn.predict(X_test)\n",
    "round(pd.Series(y_pred).value_counts(normalize=True),2)"
   ]
  },
  {
   "cell_type": "markdown",
   "metadata": {
    "collapsed": true
   },
   "source": [
    "### Explore multiple models and answer the following questions:"
   ]
  },
  {
   "cell_type": "markdown",
   "metadata": {},
   "source": [
    "* Which model gives the best results?\n",
    "* Are there any parameters of the models that are particularly effective in avoiding imbalance?\n",
    "\n",
    "Note: include as many cells as you need to show the code you used to answer these questions."
   ]
  },
  {
   "attachments": {},
   "cell_type": "markdown",
   "metadata": {},
   "source": [
    "#### Random forest Classifier Model:"
   ]
  },
  {
   "cell_type": "code",
   "execution_count": null,
   "metadata": {},
   "outputs": [
    {
     "data": {
      "text/plain": [
       "0.606"
      ]
     },
     "execution_count": 14,
     "metadata": {},
     "output_type": "execute_result"
    }
   ],
   "source": [
    "from sklearn.ensemble import RandomForestClassifier\n",
    "clsf = RandomForestClassifier(n_estimators=100, random_state=0)\n",
    "pipe_rfc = make_pipeline(count_vectorizer,clsf)\n",
    "get_accuracy(pipe_rfc)"
   ]
  },
  {
   "cell_type": "code",
   "execution_count": null,
   "metadata": {},
   "outputs": [
    {
     "data": {
      "image/png": "[encoded data removed]",
      "text/plain": [
       "<Figure size 720x360 with 2 Axes>"
      ]
     },
     "metadata": {
      "needs_background": "light"
     },
     "output_type": "display_data"
    }
   ],
   "source": [
    "plot_confusion_matrix(pipe_rfc)"
   ]
  },
  {
   "cell_type": "code",
   "execution_count": null,
   "metadata": {},
   "outputs": [
    {
     "data": {
      "text/plain": [
       "2    0.63\n",
       "3    0.16\n",
       "1    0.13\n",
       "4    0.04\n",
       "0    0.03\n",
       "dtype: float64"
      ]
     },
     "execution_count": 31,
     "metadata": {},
     "output_type": "execute_result"
    }
   ],
   "source": [
    "# Predicted classes\n",
    "y_pred = pipe_rfc.predict(X_test)\n",
    "round(pd.Series(y_pred).value_counts(normalize=True),2)"
   ]
  },
  {
   "attachments": {},
   "cell_type": "markdown",
   "metadata": {},
   "source": [
    "#### MLP Classifier:"
   ]
  },
  {
   "cell_type": "code",
   "execution_count": null,
   "metadata": {},
   "outputs": [
    {
     "data": {
      "text/plain": [
       "0.603"
      ]
     },
     "execution_count": 33,
     "metadata": {},
     "output_type": "execute_result"
    }
   ],
   "source": [
    "from sklearn.neural_network import MLPClassifier\n",
    "#Different parameters tested\n",
    "#mlp = MLPClassifier(hidden_layer_sizes=(5,5), max_iter=1500, alpha=0.0)\n",
    "mlp = MLPClassifier(hidden_layer_sizes=(10),\n",
    "                            max_iter=1500,\n",
    "                            alpha=0.0)\n",
    "pipe_mlp = make_pipeline(count_vectorizer,mlp)\n",
    "get_accuracy(pipe_mlp)"
   ]
  },
  {
   "cell_type": "code",
   "execution_count": null,
   "metadata": {},
   "outputs": [
    {
     "data": {
      "image/png": "[encoded data removed]",
      "text/plain": [
       "<Figure size 720x360 with 2 Axes>"
      ]
     },
     "metadata": {
      "needs_background": "light"
     },
     "output_type": "display_data"
    }
   ],
   "source": [
    "plot_confusion_matrix(pipe_mlp)"
   ]
  },
  {
   "cell_type": "code",
   "execution_count": null,
   "metadata": {},
   "outputs": [
    {
     "data": {
      "text/plain": [
       "2    0.67\n",
       "3    0.16\n",
       "1    0.12\n",
       "4    0.03\n",
       "0    0.02\n",
       "dtype: float64"
      ]
     },
     "execution_count": 37,
     "metadata": {},
     "output_type": "execute_result"
    }
   ],
   "source": [
    "# Predicted classes\n",
    "y_pred = pipe_mlp.predict(X_test)\n",
    "round(pd.Series(y_pred).value_counts(normalize=True),2)"
   ]
  },
  {
   "cell_type": "markdown",
   "metadata": {},
   "source": [
    "* Which model gives the best results?"
   ]
  },
  {
   "cell_type": "markdown",
   "metadata": {},
   "source": [
    "Analysing these classifier models we can see that there is a small change in the accuracy of the model but the biasness of the model towards a class is way lesser in KNN than in Decision Tree Model."
   ]
  },
  {
   "attachments": {},
   "cell_type": "markdown",
   "metadata": {},
   "source": [
    "Similarly, we test two other models with a general guess of the parameters: Random forest & MLP classifier. For both these models the accuracy remains relatively similar, However, **Random Forest model** provides the lowest biasness for this unbalanced data."
   ]
  },
  {
   "attachments": {},
   "cell_type": "markdown",
   "metadata": {},
   "source": [
    "* Are there any parameters of the models that are particularly effective in avoiding imbalance?"
   ]
  },
  {
   "attachments": {},
   "cell_type": "markdown",
   "metadata": {},
   "source": [
    "For example, we show below that for MLP classifier, increasing the hidden layers or neurons will decrease bias as the model becomes more complex. Similarly, we also show using code that in the case of KNN, increasing K will result in increase in bias as the model becomes more complex. In the case of Decision trees, increasing the max depth results in increase in model's complexity which results in less bias. Therefore, the hyperparameters can play an integral role in avoiding imbalance. Finding the right balance, using grid search, can be effective."
   ]
  },
  {
   "cell_type": "code",
   "execution_count": null,
   "metadata": {},
   "outputs": [
    {
     "data": {
      "text/plain": [
       "0.595"
      ]
     },
     "execution_count": 44,
     "metadata": {},
     "output_type": "execute_result"
    }
   ],
   "source": [
    "from sklearn.neural_network import MLPClassifier\n",
    "#Different parameters tested\n",
    "mlp2 = MLPClassifier(hidden_layer_sizes=(5,5), max_iter=1500, alpha=0.0)\n",
    "pipe_mlp2 = make_pipeline(count_vectorizer,mlp2)\n",
    "get_accuracy(pipe_mlp2)"
   ]
  },
  {
   "cell_type": "code",
   "execution_count": null,
   "metadata": {},
   "outputs": [
    {
     "data": {
      "image/png": "[encoded data removed]",
      "text/plain": [
       "<Figure size 720x360 with 2 Axes>"
      ]
     },
     "metadata": {
      "needs_background": "light"
     },
     "output_type": "display_data"
    }
   ],
   "source": [
    "plot_confusion_matrix(pipe_mlp2)"
   ]
  },
  {
   "cell_type": "code",
   "execution_count": null,
   "metadata": {},
   "outputs": [
    {
     "data": {
      "text/plain": [
       "2    0.67\n",
       "3    0.17\n",
       "1    0.12\n",
       "4    0.02\n",
       "0    0.02\n",
       "dtype: float64"
      ]
     },
     "execution_count": 50,
     "metadata": {},
     "output_type": "execute_result"
    }
   ],
   "source": [
    "# Predicted classes\n",
    "y_pred = pipe_mlp2.predict(X_test)\n",
    "round(pd.Series(y_pred).value_counts(normalize=True),2)"
   ]
  },
  {
   "cell_type": "code",
   "execution_count": null,
   "metadata": {},
   "outputs": [
    {
     "data": {
      "text/plain": [
       "0.597"
      ]
     },
     "execution_count": 46,
     "metadata": {},
     "output_type": "execute_result"
    }
   ],
   "source": [
    "from sklearn.neural_network import MLPClassifier\n",
    "#Different parameters tested\n",
    "mlp3 = MLPClassifier(hidden_layer_sizes=(5,5,5), max_iter=1500, alpha=0.0)\n",
    "pipe_mlp3 = make_pipeline(count_vectorizer,mlp3)\n",
    "get_accuracy(pipe_mlp3)"
   ]
  },
  {
   "cell_type": "code",
   "execution_count": null,
   "metadata": {},
   "outputs": [
    {
     "data": {
      "image/png": "[encoded data removed]",
      "text/plain": [
       "<Figure size 720x360 with 2 Axes>"
      ]
     },
     "metadata": {
      "needs_background": "light"
     },
     "output_type": "display_data"
    }
   ],
   "source": [
    "plot_confusion_matrix(pipe_mlp3)"
   ]
  },
  {
   "cell_type": "code",
   "execution_count": null,
   "metadata": {},
   "outputs": [
    {
     "data": {
      "text/plain": [
       "2    0.68\n",
       "3    0.16\n",
       "1    0.12\n",
       "4    0.02\n",
       "0    0.02\n",
       "dtype: float64"
      ]
     },
     "execution_count": 51,
     "metadata": {},
     "output_type": "execute_result"
    }
   ],
   "source": [
    "# Predicted classes\n",
    "y_pred = pipe_mlp3.predict(X_test)\n",
    "round(pd.Series(y_pred).value_counts(normalize=True),2)"
   ]
  },
  {
   "cell_type": "code",
   "execution_count": null,
   "metadata": {},
   "outputs": [
    {
     "data": {
      "text/plain": [
       "0.572"
      ]
     },
     "execution_count": 48,
     "metadata": {},
     "output_type": "execute_result"
    }
   ],
   "source": [
    "knn2 = KNeighborsClassifier(n_neighbors=5)\n",
    "pipe_knn2 = make_pipeline(count_vectorizer,knn2)\n",
    "get_accuracy(pipe_knn2)\n"
   ]
  },
  {
   "cell_type": "code",
   "execution_count": null,
   "metadata": {},
   "outputs": [
    {
     "data": {
      "image/png": "[encoded data removed]",
      "text/plain": [
       "<Figure size 720x360 with 2 Axes>"
      ]
     },
     "metadata": {
      "needs_background": "light"
     },
     "output_type": "display_data"
    }
   ],
   "source": [
    "plot_confusion_matrix(pipe_knn2)"
   ]
  },
  {
   "cell_type": "code",
   "execution_count": null,
   "metadata": {},
   "outputs": [
    {
     "data": {
      "text/plain": [
       "2    0.68\n",
       "3    0.14\n",
       "1    0.13\n",
       "0    0.03\n",
       "4    0.02\n",
       "dtype: float64"
      ]
     },
     "execution_count": 52,
     "metadata": {},
     "output_type": "execute_result"
    }
   ],
   "source": [
    "# Predicted classes\n",
    "y_pred = pipe_knn2.predict(X_test)\n",
    "round(pd.Series(y_pred).value_counts(normalize=True),2)"
   ]
  },
  {
   "cell_type": "markdown",
   "metadata": {},
   "source": [
    "### Data Processing"
   ]
  },
  {
   "cell_type": "markdown",
   "metadata": {},
   "source": [
    "The first step used in the *pipe* above is very simple: it counts how many times each term appears. Also, it has been limited to a maximum of 1000 dimensions. Try other ways of processing the text and discuss the differences. \n",
    "\n",
    "As an example, the following cell uses a method that considers the frequency of terms ([TfidfVectorizer](https://scikit-learn.org/stable/modules/generated/sklearn.feature_extraction.text.TfidfVectorizer.html) ). The documentation shows that it allows several configurations (removing accents, changing to lowercase, performing more complex transformations, removing common words, etc.)."
   ]
  },
  {
   "cell_type": "code",
   "execution_count": null,
   "metadata": {},
   "outputs": [
    {
     "name": "stdout",
     "output_type": "stream",
     "text": [
      "0.605\n"
     ]
    },
    {
     "data": {
      "image/png": "[encoded data removed]",
      "text/plain": [
       "<Figure size 720x360 with 2 Axes>"
      ]
     },
     "metadata": {
      "needs_background": "light"
     },
     "output_type": "display_data"
    }
   ],
   "source": [
    "from sklearn.feature_extraction.text import TfidfVectorizer\n",
    "\n",
    "tfidf_vectorizer = TfidfVectorizer()\n",
    "# tfidf_vectorizer = TfidfVectorizer(ngram_range=(1,3))\n",
    "pipe_tfidf = make_pipeline(tfidf_vectorizer, knn)\n",
    "print(get_accuracy(pipe_tfidf))\n",
    "plot_confusion_matrix(pipe_tfidf)"
   ]
  },
  {
   "cell_type": "code",
   "execution_count": null,
   "metadata": {},
   "outputs": [
    {
     "data": {
      "text/plain": [
       "2    0.51\n",
       "3    0.21\n",
       "1    0.18\n",
       "4    0.06\n",
       "0    0.05\n",
       "dtype: float64"
      ]
     },
     "execution_count": 62,
     "metadata": {},
     "output_type": "execute_result"
    }
   ],
   "source": [
    "# Predicted classes\n",
    "y_pred = pipe_tfidf.predict(X_test)\n",
    "round(pd.Series(y_pred).value_counts(normalize=True),2)"
   ]
  },
  {
   "cell_type": "markdown",
   "metadata": {},
   "source": [
    "Try various classifiers and settings for text processing and answer the following questions:\n",
    "\n",
    "* According to your experiments, which processing step has the greatest effect on the results: the classifier or the text processing?\n",
    "* Have you found any type of processing that always improves the results? What hypothesis would you propose to explain this behavior?"
   ]
  },
  {
   "cell_type": "code",
   "execution_count": null,
   "metadata": {},
   "outputs": [
    {
     "name": "stdout",
     "output_type": "stream",
     "text": [
      "0.606\n"
     ]
    },
    {
     "data": {
      "image/png": "[encoded data removed]",
      "text/plain": [
       "<Figure size 720x360 with 2 Axes>"
      ]
     },
     "metadata": {
      "needs_background": "light"
     },
     "output_type": "display_data"
    }
   ],
   "source": [
    "tfidf_vectorizer1 = TfidfVectorizer(ngram_range=(1,3))\n",
    "pipe_tfidf1 = make_pipeline(tfidf_vectorizer1, knn)\n",
    "print(get_accuracy(pipe_tfidf1))\n",
    "plot_confusion_matrix(pipe_tfidf1)"
   ]
  },
  {
   "cell_type": "code",
   "execution_count": null,
   "metadata": {},
   "outputs": [
    {
     "data": {
      "text/plain": [
       "2    0.51\n",
       "3    0.21\n",
       "1    0.17\n",
       "4    0.06\n",
       "0    0.05\n",
       "dtype: float64"
      ]
     },
     "execution_count": 64,
     "metadata": {},
     "output_type": "execute_result"
    }
   ],
   "source": [
    "# Predicted classes\n",
    "y_pred = pipe_tfidf1.predict(X_test)\n",
    "round(pd.Series(y_pred).value_counts(normalize=True),2)"
   ]
  },
  {
   "cell_type": "code",
   "execution_count": null,
   "metadata": {},
   "outputs": [
    {
     "name": "stdout",
     "output_type": "stream",
     "text": [
      "0.595\n"
     ]
    },
    {
     "data": {
      "image/png": "[encoded data removed]",
      "text/plain": [
       "<Figure size 720x360 with 2 Axes>"
      ]
     },
     "metadata": {
      "needs_background": "light"
     },
     "output_type": "display_data"
    }
   ],
   "source": [
    "tfidf_vectorizer2 = TfidfVectorizer(stop_words=\"english\")\n",
    "pipe_tfidf2 = make_pipeline(tfidf_vectorizer2, knn)\n",
    "print(get_accuracy(pipe_tfidf2))\n",
    "plot_confusion_matrix(pipe_tfidf2)"
   ]
  },
  {
   "cell_type": "code",
   "execution_count": 87,
   "metadata": {},
   "outputs": [
    {
     "name": "stdout",
     "output_type": "stream",
     "text": [
      "0.595\n"
     ]
    },
    {
     "data": {
      "image/png": "[encoded data removed]",
      "text/plain": [
       "<Figure size 720x360 with 2 Axes>"
      ]
     },
     "metadata": {
      "needs_background": "light"
     },
     "output_type": "display_data"
    }
   ],
   "source": [
    "tfidf_vectorizer3 = TfidfVectorizer(strip_accents='ascii', stop_words=\"english\")\n",
    "pipe_tfidf3 = make_pipeline(tfidf_vectorizer3, knn)\n",
    "print(get_accuracy(pipe_tfidf3))\n",
    "plot_confusion_matrix(pipe_tfidf3)"
   ]
  },
  {
   "cell_type": "code",
   "execution_count": null,
   "metadata": {},
   "outputs": [
    {
     "name": "stdout",
     "output_type": "stream",
     "text": [
      "0.595\n"
     ]
    },
    {
     "data": {
      "image/png": "[encoded data removed]",
      "text/plain": [
       "<Figure size 720x360 with 2 Axes>"
      ]
     },
     "metadata": {
      "needs_background": "light"
     },
     "output_type": "display_data"
    }
   ],
   "source": [
    "# remove words occuring in more than half the documents\n",
    "tfidf_vectorizer4 = TfidfVectorizer(max_df=0.5,stop_words=\"english\")\n",
    "pipe_tfidf4 = make_pipeline(tfidf_vectorizer4, knn)\n",
    "print(get_accuracy(pipe_tfidf4))\n",
    "plot_confusion_matrix(pipe_tfidf4)\n"
   ]
  },
  {
   "cell_type": "code",
   "execution_count": null,
   "metadata": {},
   "outputs": [
    {
     "name": "stdout",
     "output_type": "stream",
     "text": [
      "0.54\n"
     ]
    },
    {
     "data": {
      "image/png": "[encoded data removed]",
      "text/plain": [
       "<Figure size 720x360 with 2 Axes>"
      ]
     },
     "metadata": {
      "needs_background": "light"
     },
     "output_type": "display_data"
    }
   ],
   "source": [
    "tfidf_vectorizer5 = TfidfVectorizer(max_features = 300)\n",
    "pipe_tfidf5 = make_pipeline(tfidf_vectorizer5, knn)\n",
    "print(get_accuracy(pipe_tfidf5))\n",
    "plot_confusion_matrix(pipe_tfidf5)"
   ]
  },
  {
   "attachments": {},
   "cell_type": "markdown",
   "metadata": {},
   "source": [
    "#### Pre-Processing (Different Way):"
   ]
  },
  {
   "cell_type": "code",
   "execution_count": 120,
   "metadata": {},
   "outputs": [
    {
     "name": "stderr",
     "output_type": "stream",
     "text": [
      "[nltk_data] Downloading package stopwords to\n",
      "[nltk_data]     C:\\Users\\Hp\\AppData\\Roaming\\nltk_data...\n",
      "[nltk_data]   Package stopwords is already up-to-date!\n",
      "[nltk_data] Downloading package punkt to\n",
      "[nltk_data]     C:\\Users\\Hp\\AppData\\Roaming\\nltk_data...\n",
      "[nltk_data]   Unzipping tokenizers\\punkt.zip.\n"
     ]
    },
    {
     "data": {
      "text/plain": [
       "True"
      ]
     },
     "execution_count": 120,
     "metadata": {},
     "output_type": "execute_result"
    }
   ],
   "source": [
    "import nltk\n",
    "from keras.preprocessing.text import text_to_word_sequence\n",
    "from nltk.tokenize import word_tokenize\n",
    "from nltk.stem import PorterStemmer\n",
    "from nltk.stem import WordNetLemmatizer\n",
    "from nltk.corpus import stopwords\n",
    "nltk.download('stopwords')\n",
    "nltk.download('punkt')"
   ]
  },
  {
   "cell_type": "code",
   "execution_count": 121,
   "metadata": {},
   "outputs": [],
   "source": [
    "def TextPreprocessing(text):\n",
    "    text=str(text)\n",
    "    text = text.replace(\"'\",\"\")                                                                                 #remove '\n",
    "    tokenized_train_data = text_to_word_sequence(text,filters='!\"#$%&()*+,-./:;<=>?@[\\\\]^_`{|}~\\t\\n',split=\" \") #Filters and convert to tokens\n",
    "    #Remove stop words of English\n",
    "    stop_words = set(stopwords.words('english'))                                                                \n",
    "    stopwordremove = [i for i in tokenized_train_data if not i in stop_words]\n",
    "    stopwordremove_text = ' '.join(stopwordremove)\n",
    "    numberRemove = ''.join(num for num in stopwordremove_text if not num.isdigit())\n",
    "    #Return tokenized copy of the text\n",
    "    stemmer = PorterStemmer()\n",
    "    stem_input = nltk.word_tokenize(numberRemove)\n",
    "    stem_text = ' '.join([stemmer.stem(word) for word in stem_input])\n",
    "    return stem_text"
   ]
  },
  {
   "cell_type": "code",
   "execution_count": 126,
   "metadata": {},
   "outputs": [
    {
     "name": "stderr",
     "output_type": "stream",
     "text": [
      "C:\\Users\\Hp\\AppData\\Local\\Temp\\ipykernel_5804\\1912734439.py:2: SettingWithCopyWarning: \n",
      "A value is trying to be set on a copy of a slice from a DataFrame.\n",
      "Try using .loc[row_indexer,col_indexer] = value instead\n",
      "\n",
      "See the caveats in the documentation: https://pandas.pydata.org/pandas-docs/stable/user_guide/indexing.html#returning-a-view-versus-a-copy\n",
      "  train_df['Phrase'] = train_df['Phrase'].apply(TextPreprocessing)\n",
      "C:\\Users\\Hp\\AppData\\Local\\Temp\\ipykernel_5804\\1912734439.py:3: SettingWithCopyWarning: \n",
      "A value is trying to be set on a copy of a slice from a DataFrame\n",
      "\n",
      "See the caveats in the documentation: https://pandas.pydata.org/pandas-docs/stable/user_guide/indexing.html#returning-a-view-versus-a-copy\n",
      "  train_df['Phrase'].replace('',np.nan,inplace =True)\n",
      "C:\\Users\\Hp\\AppData\\Local\\Temp\\ipykernel_5804\\1912734439.py:4: SettingWithCopyWarning: \n",
      "A value is trying to be set on a copy of a slice from a DataFrame\n",
      "\n",
      "See the caveats in the documentation: https://pandas.pydata.org/pandas-docs/stable/user_guide/indexing.html#returning-a-view-versus-a-copy\n",
      "  train_df.dropna(subset = ['Phrase'],inplace =True)\n"
     ]
    }
   ],
   "source": [
    "train_df = df[['Phrase','Sentiment']]\n",
    "train_df['Phrase'] = train_df['Phrase'].apply(TextPreprocessing)\n",
    "train_df['Phrase'].replace('',np.nan,inplace =True)\n",
    "train_df.dropna(subset = ['Phrase'],inplace =True)"
   ]
  },
  {
   "cell_type": "code",
   "execution_count": 127,
   "metadata": {},
   "outputs": [],
   "source": [
    "train2, test2 = train_test_split(df[[\"Phrase\", \"Sentiment\"]], random_state=0)\n",
    "X_train2 = train2.Phrase\n",
    "X_test2 = test2.Phrase\n",
    "y_train2 = train2.Sentiment\n",
    "y_test2 = test2.Sentiment"
   ]
  },
  {
   "cell_type": "code",
   "execution_count": 128,
   "metadata": {},
   "outputs": [
    {
     "data": {
      "text/plain": [
       "0.605"
      ]
     },
     "execution_count": 128,
     "metadata": {},
     "output_type": "execute_result"
    }
   ],
   "source": [
    "tfidf_vectorizer_pp = TfidfVectorizer()\n",
    "pipe_tfidf_pp = make_pipeline(tfidf_vectorizer_pp, knn)\n",
    "pipe_tfidf_pp.fit(X_train2, y_train2)\n",
    "y_pred = pipe_tfidf_pp.predict(X_test)\n",
    "round(accuracy_score(y_pred, y_test),3)"
   ]
  },
  {
   "cell_type": "code",
   "execution_count": 129,
   "metadata": {},
   "outputs": [
    {
     "data": {
      "text/plain": [
       "2    0.51\n",
       "3    0.21\n",
       "1    0.18\n",
       "4    0.06\n",
       "0    0.05\n",
       "dtype: float64"
      ]
     },
     "execution_count": 129,
     "metadata": {},
     "output_type": "execute_result"
    }
   ],
   "source": [
    "# Predicted classes\n",
    "y_pred = pipe_tfidf_pp.predict(X_test)\n",
    "round(pd.Series(y_pred).value_counts(normalize=True),2)"
   ]
  },
  {
   "attachments": {},
   "cell_type": "markdown",
   "metadata": {},
   "source": [
    "* **According to your experiments, which processing step has the greatest effect on the results: the classifier or the text processing?**\n",
    "    \n",
    "    \n",
    "    The text processing has the greater effect on the result, as can be seen by our experiment's confusion matrix. This is because the parameter tuning is highly effective in making sure that biasness is decreased from the model.\n",
    "\n",
    "* **Have you found any type of processing that always improves the results? What hypothesis would you propose to explain this behavior?**\n",
    "\n",
    "\n",
    "    **STOP WORDS:**\n",
    "    Stop words include words like \"and,\" \"the,\" and \"to\" in English, as well as pronouns and prepositions. This procedure filters out highly common phrases that seem to add little to no value, so removing widespread and frequent terms that are uninformative of the relevant text. Stop words can be securely disregarded, freeing up database space and speeding up processing, Hence almost always improvind the results.\n",
    "\n",
    "    **NGRAM_RANGE:**\n",
    "    The lower and upper boundary of the range of n-values for different n-grams to be extracted. An N-Gram is a sequence of N-words in a sentence. We give the lower bound as 1 while keeping the upper bound at 3. This means that providing context to the words is essential and will help us improve results.\n",
    "\n",
    "    **MAX_FEATURES:**\n",
    "    This builds a vocabulary that only consider the top max_features ordered by term frequency across the corpus. This narrows the decision down and provides a more accurate and decisive model, improving the results as can be seen by it's confusion matrix.\n",
    "\n"
   ]
  },
  {
   "attachments": {},
   "cell_type": "markdown",
   "metadata": {},
   "source": [
    "## Conclusions\n",
    "**Summarize the results and conclusions of your study.**"
   ]
  },
  {
   "attachments": {},
   "cell_type": "markdown",
   "metadata": {},
   "source": [
    "To summarise the results, We can note that different models of classification have different affects on the biasness and the accuracy of the unbalanced dataset. These variations are also dependent on the hyperparameters of the classification models which can be fine tuned to reduce biasness and increase the accuracy. However, For Sentiment Analysis with Text processing which is our case, Mostly the accuracy and reduction in bias is dependent on the preprocessing of the text which is essential. TfidfVectorizer() has alot of potential parameters that help us process the text in different ways to adapt to our model and remove useless information whilst focusing on the important text only. We can also do the preprocessing manually using many different tools such as tokenizers and filters."
   ]
  }
 ],
 "metadata": {
  "kernelspec": {
   "display_name": "Python 3.10.8 64-bit (microsoft store)",
   "language": "python",
   "name": "python3"
  },
  "language_info": {
   "codemirror_mode": {
    "name": "ipython",
    "version": 3
   },
   "file_extension": ".py",
   "mimetype": "text/x-python",
   "name": "python",
   "nbconvert_exporter": "python",
   "pygments_lexer": "ipython3",
   "version": "3.10.9"
  },
  "vscode": {
   "interpreter": {
    "hash": "a97dfee85535fb1d5b47fe9558cac8ab9061198b8187c5e3fe351ac320e8c61d"
   }
  }
 },
 "nbformat": 4,
 "nbformat_minor": 1
}
